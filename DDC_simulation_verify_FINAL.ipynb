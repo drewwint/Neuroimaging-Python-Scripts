{
  "nbformat": 4,
  "nbformat_minor": 0,
  "metadata": {
    "colab": {
      "provenance": [],
      "authorship_tag": "ABX9TyNMGYfEigeYZ790+sfSddzi",
      "include_colab_link": true
    },
    "kernelspec": {
      "name": "python3",
      "display_name": "Python 3"
    },
    "language_info": {
      "name": "python"
    }
  },
  "cells": [
    {
      "cell_type": "markdown",
      "metadata": {
        "id": "view-in-github",
        "colab_type": "text"
      },
      "source": [
        "<a href=\"https://colab.research.google.com/github/drewwint/Neuroimaging-Python-Scripts/blob/main/DDC_simulation_verify_FINAL.ipynb\" target=\"_parent\"><img src=\"https://colab.research.google.com/assets/colab-badge.svg\" alt=\"Open In Colab\"/></a>"
      ]
    },
    {
      "cell_type": "markdown",
      "source": [
        "# Dynamic Differnetial Covariance for Python\n",
        "## Code to calcualte DDC - both linear and non-linear as well as their regularized forms in Python\n",
        "## Demonstration below validates this code with a similation for timeseries signal recovery\n",
        "#### Written by: Drew E. Winters, PhD."
      ],
      "metadata": {
        "id": "68V2QL-CCdHh"
      }
    },
    {
      "cell_type": "markdown",
      "source": [
        "## packages"
      ],
      "metadata": {
        "id": "ka2H8E3liplV"
      }
    },
    {
      "cell_type": "code",
      "source": [
        "import pandas as pd\n",
        "import numpy as np\n",
        "from scipy import stats\n",
        "import os, glob, pathlib\n",
        "import re # to manupulate varaibles\n",
        "from sklearn.linear_model import Ridge\n",
        "from numpy.linalg import inv, matrix_rank\n",
        "from scipy.stats import zscore\n",
        "import seaborn as sns\n",
        "import matplotlib.pyplot as plt\n",
        "import matplotlib.patches as mpatches\n",
        "from sklearn.metrics.pairwise import cosine_similarity\n",
        "from sklearn.metrics import pairwise_distances\n"
      ],
      "metadata": {
        "id": "fqEmUZCp7pky"
      },
      "execution_count": 13,
      "outputs": []
    },
    {
      "cell_type": "code",
      "source": [
        "seed = 5489 # set seed for reproducibility\n",
        "  ## according to <https://walkingrandomly.com/?p=5480> this is the same as matlab default twister 0 \"rng(0)\"\"\n",
        "np.random.seed(seed)"
      ],
      "metadata": {
        "id": "oEIRyPOgDBJ8"
      },
      "execution_count": 14,
      "outputs": []
    },
    {
      "cell_type": "markdown",
      "source": [
        "# Functions"
      ],
      "metadata": {
        "id": "VTUu0nkuiu5S"
      }
    },
    {
      "cell_type": "markdown",
      "source": [
        "## Non-linear timeseries simulation function"
      ],
      "metadata": {
        "id": "Xg0m8jNciNxC"
      }
    },
    {
      "cell_type": "code",
      "source": [
        "import numpy as np\n",
        "import pandas as pd\n",
        "\n",
        "def nonlinear_simulation(G, deltaT, RandInput, options):\n",
        "    \"\"\"\n",
        "    Simulate the dynamics of a nonlinear system.\n",
        "\n",
        "    Parameters:\n",
        "    - G (numpy.ndarray): Connectivity matrix.\n",
        "    - deltaT (float): Integration step.\n",
        "    - RandInput (float): Magnitude of noisy input.\n",
        "    - options (dict): Dictionary with keys 'nonlinearity', 'parameter', and 'Ttotal'.\n",
        "\n",
        "    Returns:\n",
        "    - V_pre (numpy.ndarray): Time points x variables.\n",
        "    \"\"\"\n",
        "\n",
        "    def relu(x, param):\n",
        "        \"\"\"ReLU activation function with a given parameter.\"\"\"\n",
        "        Fx = x - param\n",
        "        Fx[Fx < 0] = 0\n",
        "        return Fx\n",
        "\n",
        "    def sigmoid(x, param):\n",
        "        \"\"\"Sigmoid activation function with a given parameter.\"\"\"\n",
        "        return 1 / (1 + np.exp(-param * x))\n",
        "\n",
        "    def sigmoid_sym(x, param):\n",
        "        \"\"\"Symmetric sigmoid activation function with a given parameter.\"\"\"\n",
        "        return 1 / (1 + np.exp(-param * x)) - 0.5\n",
        "\n",
        "    # Select the nonlinearity function based on options\n",
        "    if options['nonlinearity'] == 'relu':\n",
        "        print('ReLU nonlinearity')\n",
        "        F = lambda x: relu(x, options['parameter'])\n",
        "    elif options['nonlinearity'] == 'sigmoid':\n",
        "        print('Sigmoid nonlinearity')\n",
        "        F = lambda x: sigmoid(x, options['parameter'])\n",
        "    elif options['nonlinearity'] == 'sigmoid_sym':\n",
        "        print('Sigmoid symmetric nonlinearity')\n",
        "        F = lambda x: sigmoid_sym(x, options['parameter'])\n",
        "    else:\n",
        "        raise ValueError(\"Unsupported nonlinearity function\")\n",
        "\n",
        "    N = G.shape[0]\n",
        "    T = int(options['Ttotal'] / deltaT)  # Number of time steps\n",
        "    V_pre = np.zeros((T, N))\n",
        "    I = np.zeros((T, N))\n",
        "\n",
        "    for t in range(1, T):\n",
        "        u = np.random.randn(N) * RandInput\n",
        "        I[t, :] = (G @ F(V_pre[t-1, :]))  # Matrix-vector multiplication\n",
        "        V_pre[t, :] = V_pre[t-1, :] + (I[t, :] + u) * deltaT\n",
        "\n",
        "        if np.any(V_pre[t, :] > 10000):\n",
        "            print('Simulation exploded')\n",
        "            break\n",
        "\n",
        "        if t % (T // 10) == 0:\n",
        "            print(f'Simulation iteration: {t / T:.2f}')\n",
        "\n",
        "    return V_pre\n",
        "\n",
        "# Example usage\n",
        "    # G = np.array([[1, 0.5, 0.5],\n",
        "    #               [0.5, 1, 0.5],\n",
        "    #               [0.5, 0.5, 1]])\n",
        "G = np.array([[0, -0.5, -0.5],\n",
        "              [-0.5, 0, 0.5],\n",
        "              [-0.5, 0.5, 0]])\n",
        "deltaT = 0.1 #03 #*#\n",
        "RandInput = 0.04\n",
        "options = {\n",
        "    'nonlinearity': 'relu',  # 'sigmoid' or 'sigmoid_sym'\n",
        "    'parameter': 1,\n",
        "    'Ttotal': 1000\n",
        "}\n",
        "\n",
        "V_pre = nonlinear_simulation(G, deltaT, RandInput, options)\n",
        "\n",
        "# Plotting the results\n",
        "import matplotlib.pyplot as plt\n",
        "\n",
        "plt.plot(V_pre)\n",
        "plt.show()\n"
      ],
      "metadata": {
        "colab": {
          "base_uri": "https://localhost:8080/",
          "height": 604
        },
        "id": "3-s_VDbH4tFs",
        "outputId": "022812b3-35d2-47ab-c4be-94fa68ae7dae"
      },
      "execution_count": 15,
      "outputs": [
        {
          "output_type": "stream",
          "name": "stdout",
          "text": [
            "ReLU nonlinearity\n",
            "Simulation iteration: 0.10\n",
            "Simulation iteration: 0.20\n",
            "Simulation iteration: 0.30\n",
            "Simulation iteration: 0.40\n",
            "Simulation iteration: 0.50\n",
            "Simulation iteration: 0.60\n",
            "Simulation iteration: 0.70\n",
            "Simulation iteration: 0.80\n",
            "Simulation iteration: 0.90\n"
          ]
        },
        {
          "output_type": "display_data",
          "data": {
            "text/plain": [
              "<Figure size 640x480 with 1 Axes>"
            ],
            "image/png": "[encoded data removed]"
          },
          "metadata": {}
        }
      ]
    },
    {
      "cell_type": "code",
      "source": [
        "pd.DataFrame(V_pre).shape"
      ],
      "metadata": {
        "id": "qLkgysIw_Ysu",
        "colab": {
          "base_uri": "https://localhost:8080/"
        },
        "outputId": "77aaa028-de7a-49ed-ee2f-2833437dc772"
      },
      "execution_count": 104,
      "outputs": [
        {
          "output_type": "execute_result",
          "data": {
            "text/plain": [
              "(10000, 3)"
            ]
          },
          "metadata": {},
          "execution_count": 104
        }
      ]
    },
    {
      "cell_type": "markdown",
      "source": [
        "## Code for the relu estimation\n",
        "\n",
        "### Translated from matlab code: https://github.com/yschen13/DDC/tree/main\n",
        "#### Improved over prior translation: https://github.com/margotwagner/DDC/blob/main/src/py_DDC/Compute_DDC.py"
      ],
      "metadata": {
        "id": "Y2E-TqzJgG9Z"
      }
    },
    {
      "cell_type": "code",
      "source": [
        "\n",
        "\n",
        "def derivative_123(f, dm, dt):\n",
        "    \"\"\"\n",
        "    Compute the first, second, and third derivatives of a function.\n",
        "    Parameters:\n",
        "    - f (numpy.ndarray): Array of function values.\n",
        "    - dm (int): Parameter for the derivative calculation.\n",
        "    - dt (float): Time step size.\n",
        "    Returns:\n",
        "    - D1 (numpy.ndarray): First derivative.\n",
        "    - D2 (numpy.ndarray): Second derivative.\n",
        "    - D3 (numpy.ndarray): Third derivative.\n",
        "    \"\"\"\n",
        "    t = np.arange(1 + dm, len(f) - dm)\n",
        "    # for this function to work f has to be a numpy array\n",
        "    f = np.array(f)\n",
        "    # D1 (First Derivative)\n",
        "    D1 = 0\n",
        "    d = 0\n",
        "    for n1 in range(1, dm + 1):\n",
        "        for n2 in range(n1 + 1, dm + 1):\n",
        "            d += 1\n",
        "            numerator = -((f[t - n2] * n1**3 - f[t + n2] * n1**3 -\n",
        "                f[t - n1] * n2**3 + f[t + n1] * n2**3))\n",
        "            denominator = (2 * dt * n1**3 * n2 - 2 * dt * n1 * n2**3)\n",
        "            D1 += numerator / denominator\n",
        "    D1 /= d\n",
        "\n",
        "    # D2 (Second Derivative)\n",
        "    D2 = 0\n",
        "    d = 0\n",
        "    for n1 in range(1, dm + 1):\n",
        "        for n2 in range(n1 + 1, dm + 1):\n",
        "            d += 1\n",
        "            numerator = (f[t - n2] * n1**4 + f[t + n2] * n1**4 -\n",
        "                         f[t - n1] * n2**4 - f[t + n1] * n2**4 -\n",
        "                         2 * f[t] * (n1**4 - n2**4))\n",
        "            denominator = (dt**2 * n2**2 * (n1**4 - n1**2 * n2**2))\n",
        "            D2 += numerator / denominator\n",
        "    D2 /= d\n",
        "\n",
        "    # D3 (Third Derivative)\n",
        "    D3 = 0\n",
        "    d = 0\n",
        "    for n1 in range(1, dm + 1):\n",
        "        for n2 in range(n1 + 1, dm + 1):\n",
        "            for n3 in range(n2 + 1, dm + 1):\n",
        "                d += 1\n",
        "                numerator = (3 * (f[t - n3] * n1 * n2 * (n1**4 - n2**4) +\n",
        "                                  f[t + n3] * (-n1**5 * n2 + n1 * n2**5) +\n",
        "                                  n3 * ((f[t - n1] - f[t + n1]) * n2 * (n2**4 - n3**4) +\n",
        "                                        f[t + n2] * (n1**5 - n1 * n3**4) +\n",
        "                                        f[t - n2] * (-n1**5 + n1 * n3**4))))\n",
        "                denominator = (dt**3 * n1 * (n1**2 - n2**2) * n3 * (n1**2 - n3**2) * (n2**3 - n2 * n3**2))\n",
        "                D3 += numerator / denominator\n",
        "\n",
        "    D3 /= d\n",
        "    return D1, D2, D3\n",
        "\n",
        "\n",
        "\n",
        "def dCov_numerical(cx, h, dm=4):\n",
        "  \"\"\"\n",
        "  Compute various numerical differential covariance matrices using different finite difference methods (derivative approximations).\n",
        "\n",
        "  Parameters:\n",
        "  - cx (numpy.ndarray): Time series data matrix (T x N).\n",
        "  - h (float): Step size for numerical differentiation.\n",
        "  - dm (int, optional): Maximum window size for custom derivative computation. Default is 4.\n",
        "\n",
        "  Returns:\n",
        "  - dCov1 (numpy.ndarray): Differential covariance using first difference method (N x N) [approximation of first derivatie].\n",
        "  - dCov2 (numpy.ndarray): Differential covariance using central difference method (N x N) [approximation of second derivative].\n",
        "  - dCov5 (numpy.ndarray): Differential covariance using a higher-order difference method (N x N) [approximation of five-point stencil approximation].\n",
        "  - dCov_center (numpy.ndarray): Differential covariance using a custom centered method (N x N) [the centered derivative from Taylor expansion].\n",
        "\n",
        "  NOTE:\n",
        "  \tdCov = <dv/dt,v>\n",
        "  \tcovariance is computed through np.cov()\n",
        "  \"\"\"\n",
        "  T, N = cx.shape\n",
        "  # Compute first-order derivative\n",
        "  cx = np.array(cx)\n",
        "  diff_cx = np.vstack(((cx[1:, :] - cx[:-1, :]) / h,\n",
        "                       np.mean(cx[1:, :] - cx[:-1, :], axis=0)))\n",
        "  Csample = np.cov(np.hstack((diff_cx, cx)).T, rowvar=False)\n",
        "  dCov1 = zscore(Csample[:N, N:N + N])\n",
        "\n",
        "  # Compute second-order derivative\n",
        "  diff_cx = np.vstack(((1/2 * cx[2:, :] - 1/2 * cx[:-2, :]) / h,\n",
        "                       np.mean(1/2 * cx[2:, :] - 1/2 * cx[:-2, :], axis=0),\n",
        "                       diff_cx[-1, :]))\n",
        "  Csample = np.cov(np.hstack((diff_cx, cx)), rowvar=False)\n",
        "  dCov2 = zscore(Csample[:N, N:N + N])\n",
        "\n",
        "  # Compute five-point stencil derivative\n",
        "  diff_cx = np.zeros((T, N))\n",
        "  for i in range(2, T - 2):\n",
        "      for j in range(2, N - 2):\n",
        "        diff_cx[i, j] = (\n",
        "            -cx[i + 2, j] + 8 * cx[i + 1, j]\n",
        "            - 8 * cx[i - 1, j] + cx[i - 2, j]\n",
        "        ) / 12.0\n",
        "  Csample = np.cov(np.hstack((diff_cx, cx)), rowvar=False)\n",
        "  dCov5 = Csample[:N, N:N + N]\n",
        "\n",
        "  # Compute centered derivative using derivative_123\n",
        "  diff_cx = np.zeros(((T - 2 * dm)-1, N))\n",
        "  for i in range(N):\n",
        "      dx, _, _ = derivative_123(cx[:, i], dm, h)\n",
        "      diff_cx[:, i] = dx\n",
        "  cx_trunc = cx[1+dm:T - dm, :]\n",
        "  Csample = np.cov(np.hstack((diff_cx, cx_trunc)), rowvar=False)\n",
        "  dCov_center = Csample[:N, N:N + N]\n",
        "\n",
        "  return dCov1, dCov2, dCov5, dCov_center\n",
        "\n",
        "\n",
        "def estimators(V, thres, TR):\n",
        "  \"\"\"\n",
        "\tINPUT:\n",
        "  \t\tV_obs: time points x variables\n",
        "  \t\tthres: Relu offset\n",
        "  \t\tTR: sampling interval (seconds)\n",
        "  OUTPUT:\n",
        "  \t\tB: ReLu(x),x\n",
        "  \t\tdCov: dx/dt,x\n",
        "  \"\"\"\n",
        "  T, N = V.shape\n",
        "  V_obs = zscore(V, axis=0)\n",
        "  Cov = np.cov(V_obs, rowvar=False)\n",
        "  precision = np.linalg.inv(Cov)\n",
        "  # ReLU transformation\n",
        "  Fx = np.maximum(V_obs - thres, 0)\n",
        "  B = np.cov(Fx,rowvar=False)\n",
        "  dV = np.diff(V_obs) / TR\n",
        "  dV = np.vstack([np.mean(dV, axis=0), dV[1:-1], np.mean(dV, axis=0)])\n",
        "  dCov = np.cov(np.hstack([dV, V_obs]), rowvar=False)\n",
        "\n",
        "  return Cov, precision, B, dCov\n",
        "\n",
        "\n",
        "import numpy as np\n",
        "from sklearn.linear_model import Ridge\n",
        "from scipy.stats import zscore\n",
        "\n",
        "def dCov_linear_Reg(V, TR, lambda_=0.01):\n",
        "    \"\"\"\n",
        "    L2 Regularized version of deltaL.\n",
        "\n",
        "    Parameters:\n",
        "    - V (numpy.ndarray): Time series data (T x N).\n",
        "    - TR (float): Sampling interval.\n",
        "    - lambda_ (float): Regularization strength.\n",
        "\n",
        "    Returns:\n",
        "    - Delta_L (numpy.ndarray): Linear DDC with ridge regularization.\n",
        "    \"\"\"\n",
        "    T, N = V.shape\n",
        "\n",
        "    # Standardize V\n",
        "    V_obs = zscore(V, axis=0)\n",
        "\n",
        "    # Calculate numerical derivatives and estimators\n",
        "    _, dCov2, _, _ = dCov_numerical(V_obs, TR)\n",
        "    Cov, _, _, _ = estimators(V_obs, 0, TR)\n",
        "\n",
        "    # Use Cov for B as per the MATLAB code\n",
        "    B = Cov\n",
        "    C = dCov2\n",
        "\n",
        "    # Initialize the output matrix\n",
        "    Delta_L = np.zeros_like(C)\n",
        "\n",
        "    # Perform ridge regression for each row of C\n",
        "    BtB = B.T @ B\n",
        "    identity = np.eye(B.shape[1])\n",
        "    BtB_reg = BtB + lambda_ * identity\n",
        "    BtB_reg_inv = np.linalg.inv(BtB_reg)\n",
        "    Delta_L = zscore(np.flipud((BtB_reg_inv @ B.T @ C.T).T))/2\n",
        "\n",
        "    return Delta_L\n",
        "\n",
        "\n",
        "def dcov_relu(V, TR, lambda_=0.01):\n",
        "    \"\"\"\n",
        "    Regularized version of Delta_ReLU\n",
        "    INPUT:\n",
        "        V: time series\n",
        "        TR: sampling interval\n",
        "        lambda_: regularization strength\n",
        "    OUTPUT:\n",
        "        Delta_ReLU: nonlinear DDC with ReLU nonlinearity\n",
        "    \"\"\"\n",
        "    T, N = V.shape\n",
        "\n",
        "    # Standardize V\n",
        "    V_obs = zscore(V, axis=0)\n",
        "    # V_obs = V\n",
        "\n",
        "    # Calculate numerical derivatives and estimators\n",
        "    _, dCov2, _, _ = dCov_numerical(V_obs, TR)\n",
        "\n",
        "    # Apply ReLU non-linearity to the standardized observations\n",
        "    V_relu = np.maximum(V_obs, 0)  # Applying ReLU\n",
        "\n",
        "    # Re-compute the estimators using ReLU-transformed data\n",
        "    Cov, _, B, _ = estimators(V_relu, 1, TR)\n",
        "\n",
        "    # Ridge regression using the ReLU-transformed covariance matrix\n",
        "    BtB = B.T @ B\n",
        "    identity = np.eye(B.shape[1])\n",
        "    BtB_reg = BtB + lambda_ * identity\n",
        "    BtB_reg_inv = np.linalg.inv(BtB_reg)\n",
        "    Delta_ReLU = zscore(np.flipud((BtB_reg_inv @ B.T @ dCov2.T).T))/2\n",
        "\n",
        "    return Delta_ReLU\n",
        "\n"
      ],
      "metadata": {
        "id": "LG5_wJPA_Up2"
      },
      "execution_count": 17,
      "outputs": []
    },
    {
      "cell_type": "markdown",
      "source": [
        "# Testing the estimation by trying to recover ground truth"
      ],
      "metadata": {
        "id": "lo92lRtii58x"
      }
    },
    {
      "cell_type": "markdown",
      "source": [
        "## Ground truth figure we are trying to recover\n"
      ],
      "metadata": {
        "id": "ebwpEy90fxOz"
      }
    },
    {
      "cell_type": "code",
      "source": [
        "import seaborn as sns\n",
        "import matplotlib.pyplot as plt\n",
        "np.fill_diagonal(G,0)\n",
        "sns.heatmap(G, annot=True, cmap = 'viridis', vmin=-0.5, vmax=0.5)"
      ],
      "metadata": {
        "id": "gorwRjGf4but",
        "colab": {
          "base_uri": "https://localhost:8080/",
          "height": 447
        },
        "outputId": "da118f8e-57c8-4a7d-f6d8-7143ab9d2960"
      },
      "execution_count": 18,
      "outputs": [
        {
          "output_type": "execute_result",
          "data": {
            "text/plain": [
              "<Axes: >"
            ]
          },
          "metadata": {},
          "execution_count": 18
        },
        {
          "output_type": "display_data",
          "data": {
            "text/plain": [
              "<Figure size 640x480 with 2 Axes>"
            ],
            "image/png": "[encoded data removed]"
          },
          "metadata": {}
        }
      ]
    },
    {
      "cell_type": "markdown",
      "source": [
        "## Correlation Recovery"
      ],
      "metadata": {
        "id": "9wuJKwV8hDp6"
      }
    },
    {
      "cell_type": "code",
      "source": [
        "cor = pd.DataFrame(V_pre).corr()\n",
        "np.fill_diagonal(cor.values,0)\n",
        "sns.heatmap(cor, annot=True, cmap = 'viridis', vmin=-0.05, vmax=0.05)"
      ],
      "metadata": {
        "id": "LP73uStIkvNA",
        "colab": {
          "base_uri": "https://localhost:8080/",
          "height": 447
        },
        "outputId": "500f6a96-b3af-47ea-dd30-1065c9c155ea"
      },
      "execution_count": 22,
      "outputs": [
        {
          "output_type": "execute_result",
          "data": {
            "text/plain": [
              "<Axes: >"
            ]
          },
          "metadata": {},
          "execution_count": 22
        },
        {
          "output_type": "display_data",
          "data": {
            "text/plain": [
              "<Figure size 640x480 with 2 Axes>"
            ],
            "image/png": "[encoded data removed]"
          },
          "metadata": {}
        }
      ]
    },
    {
      "cell_type": "markdown",
      "source": [
        "### Delta L Recovery"
      ],
      "metadata": {
        "id": "vOiei_nT8EWe"
      }
    },
    {
      "cell_type": "code",
      "source": [
        "dCov1, dCov2,_,dCovC = dCov_numerical(V_pre, deltaT)\n",
        "Cov,Precision,B,_ = estimators(V_pre, np.percentile(V_pre,50), deltaT)"
      ],
      "metadata": {
        "id": "YvMPzIDWPRiU"
      },
      "execution_count": 87,
      "outputs": []
    },
    {
      "cell_type": "code",
      "source": [
        "delta_l = np.matmul(dCov2,Precision)\n",
        "delta_l_p = delta_l.copy()\n",
        "np.fill_diagonal(delta_l_p,0)\n",
        "sns.heatmap(delta_l_p, annot=True, cmap = 'viridis', vmin=-0.05, vmax=0.05)\n"
      ],
      "metadata": {
        "colab": {
          "base_uri": "https://localhost:8080/",
          "height": 447
        },
        "id": "PSzBPBpCQD1L",
        "outputId": "a3d3e94f-b7b4-4fdf-a1ef-696d9da1d56f"
      },
      "execution_count": 91,
      "outputs": [
        {
          "output_type": "execute_result",
          "data": {
            "text/plain": [
              "<Axes: >"
            ]
          },
          "metadata": {},
          "execution_count": 91
        },
        {
          "output_type": "display_data",
          "data": {
            "text/plain": [
              "<Figure size 640x480 with 2 Axes>"
            ],
            "image/png": "[encoded data removed]"
          },
          "metadata": {}
        }
      ]
    },
    {
      "cell_type": "markdown",
      "source": [
        "### Delta Relu Recovery"
      ],
      "metadata": {
        "id": "tpDU1tUI8HRw"
      }
    },
    {
      "cell_type": "code",
      "source": [
        "# delta_relu = np.matmul(dCovC,B)\n",
        "# delta_relu_p = zscore(delta_relu.copy())\n",
        "delta_relu = np.matmul(dCov2,B)\n",
        "delta_relu_p = delta_relu.copy()\n",
        "np.fill_diagonal(delta_relu_p,0)\n",
        "sns.heatmap(delta_relu_p, annot=True, cmap = 'viridis', vmin=-0.05, vmax=0.05)"
      ],
      "metadata": {
        "colab": {
          "base_uri": "https://localhost:8080/",
          "height": 447
        },
        "id": "SvVOBpsLtA6w",
        "outputId": "82590605-c9b2-46ba-dc0c-44a12dbfb39d"
      },
      "execution_count": 90,
      "outputs": [
        {
          "output_type": "execute_result",
          "data": {
            "text/plain": [
              "<Axes: >"
            ]
          },
          "metadata": {},
          "execution_count": 90
        },
        {
          "output_type": "display_data",
          "data": {
            "text/plain": [
              "<Figure size 640x480 with 2 Axes>"
            ],
            "image/png": "[encoded data removed]"
          },
          "metadata": {}
        }
      ]
    },
    {
      "cell_type": "markdown",
      "source": [
        "## non-linearn ddc estimation\n",
        "* ddc_relu = regularized non-linear"
      ],
      "metadata": {
        "id": "7aCUBY5VgeBU"
      }
    },
    {
      "cell_type": "code",
      "source": [
        "ddc_relu = dcov_relu(V=V_pre, TR=deltaT)"
      ],
      "metadata": {
        "id": "XamoSmpYRDV_"
      },
      "execution_count": 19,
      "outputs": []
    },
    {
      "cell_type": "code",
      "source": [
        "ddc_relu"
      ],
      "metadata": {
        "colab": {
          "base_uri": "https://localhost:8080/"
        },
        "id": "W7IdcqDy-7Qn",
        "outputId": "e03e28c5-c64b-4cff-9fa5-4ada6c3e6713"
      },
      "execution_count": null,
      "outputs": [
        {
          "output_type": "execute_result",
          "data": {
            "text/plain": [
              "array([[ 0.69068468, -0.34784253, -0.68810007],\n",
              "       [-0.21413259, -0.35923367,  0.48507739],\n",
              "       [-0.4765521 ,  0.7070762 ,  0.20302268]])"
            ]
          },
          "metadata": {},
          "execution_count": 164
        }
      ]
    },
    {
      "cell_type": "code",
      "source": [
        "ddc_relu = dcov_relu(V=V_pre, TR=deltaT)\n",
        "ddc_relu"
      ],
      "metadata": {
        "colab": {
          "base_uri": "https://localhost:8080/"
        },
        "id": "vYxV85ATsmbP",
        "outputId": "af51831c-e157-4c0c-8032-6dc7be03904f"
      },
      "execution_count": 20,
      "outputs": [
        {
          "output_type": "execute_result",
          "data": {
            "text/plain": [
              "array([[ 0.69068468, -0.34784253, -0.68810007],\n",
              "       [-0.21413259, -0.35923367,  0.48507739],\n",
              "       [-0.4765521 ,  0.7070762 ,  0.20302268]])"
            ]
          },
          "metadata": {},
          "execution_count": 20
        }
      ]
    },
    {
      "cell_type": "markdown",
      "source": [
        "### what we recovered - regularized non-linear (relu)"
      ],
      "metadata": {
        "id": "fnY4fO5Ig1z3"
      }
    },
    {
      "cell_type": "code",
      "source": [
        "ddc_relu_p = ddc_relu.copy()\n",
        "np.fill_diagonal(ddc_relu_p,0)\n",
        "sns.heatmap(np.round(ddc_relu_p,3), annot=True, cmap = 'viridis', vmin=-0.05, vmax=0.05)"
      ],
      "metadata": {
        "id": "Ijyp8YYG1fu1",
        "colab": {
          "base_uri": "https://localhost:8080/",
          "height": 447
        },
        "outputId": "ad357996-3704-4602-ccd8-fc68b1604bd2"
      },
      "execution_count": 21,
      "outputs": [
        {
          "output_type": "execute_result",
          "data": {
            "text/plain": [
              "<Axes: >"
            ]
          },
          "metadata": {},
          "execution_count": 21
        },
        {
          "output_type": "display_data",
          "data": {
            "text/plain": [
              "<Figure size 640x480 with 2 Axes>"
            ],
            "image/png": "[encoded data removed]"
          },
          "metadata": {}
        }
      ]
    },
    {
      "cell_type": "markdown",
      "source": [
        "## Linear DDC Estimation\n",
        "ddc_l = linear regularized ddc\n"
      ],
      "metadata": {
        "id": "QhSGG69-gvPT"
      }
    },
    {
      "cell_type": "code",
      "source": [
        "ddc_l = dCov_linear_Reg(V_pre, TR=0.1)"
      ],
      "metadata": {
        "id": "xdqLU3gyPjq1"
      },
      "execution_count": 23,
      "outputs": []
    },
    {
      "cell_type": "code",
      "source": [
        "ddc_l_p = ddc_l.copy()\n",
        "np.fill_diagonal(ddc_l_p,0)\n",
        "sns.heatmap(ddc_l_p, annot=True, cmap = 'viridis', vmin=-0.05, vmax=0.05)"
      ],
      "metadata": {
        "id": "YyZrLC-usBVS",
        "colab": {
          "base_uri": "https://localhost:8080/",
          "height": 447
        },
        "outputId": "ece8f6db-3bf4-4f04-e05e-bab22cf8404e"
      },
      "execution_count": 24,
      "outputs": [
        {
          "output_type": "execute_result",
          "data": {
            "text/plain": [
              "<Axes: >"
            ]
          },
          "metadata": {},
          "execution_count": 24
        },
        {
          "output_type": "display_data",
          "data": {
            "text/plain": [
              "<Figure size 640x480 with 2 Axes>"
            ],
            "image/png": "[encoded data removed]"
          },
          "metadata": {}
        }
      ]
    },
    {
      "cell_type": "markdown",
      "source": [
        "# Evaluating recovery"
      ],
      "metadata": {
        "id": "vUhSAnHmbgWG"
      }
    },
    {
      "cell_type": "markdown",
      "source": [
        "## Representational similarity function to evaluate recovery"
      ],
      "metadata": {
        "id": "q-TTrQIfbmhk"
      }
    },
    {
      "cell_type": "code",
      "source": [
        "from joblib import parallel_backend\n",
        "\n",
        "def distance(m1,m2):\n",
        "  distance = []\n",
        "  d_norm = []\n",
        "  import numpy as np\n",
        "  if len(m1) == len(m2) and m1[0].shape == m2[0].shape:\n",
        "    for m in range(len(m1)):\n",
        "      print(\"Calculating distance for pair\", 1+m, \"/\", len(m1))\n",
        "      mm = np.zeros([m1[m].shape[0],m1[m].shape[1]])\n",
        "      for i in range(len(m1[m])):\n",
        "        for j in range(len(m1[m][i])):\n",
        "          mm[i][j] = (np.linalg.norm(m2[m][i][j] - m1[m][i][j]))\n",
        "      distance.append(mm)\n",
        "    for m in distance:\n",
        "      mm2 = np.zeros([m.shape[1],m.shape[1]])\n",
        "      for i in range(len(m)):\n",
        "        for j in range(len(m[i])):\n",
        "          mm2[i][j] = ((m[i][j]-np.min(m))/(np.max(m) - np.min(m)))\n",
        "      d_norm.append(mm2)\n",
        "    return(d_norm)\n",
        "  else:\n",
        "    raise Warning(\"list are different lengths or matricies are different sizes - please fix\")\n",
        "\n",
        "\n",
        "\n",
        "# function for converting distance to similarity matricies\n",
        "def dist_to_sim(d_norm):\n",
        "  sim = []\n",
        "  for m in d_norm:\n",
        "    print(\"Calculating similarity for\", 1+len(sim), \"/\", len(d_norm))\n",
        "    mm = np.zeros([m.shape[0],m.shape[1]])\n",
        "    for i in range(len(m)):\n",
        "      for j in range(len(m[i])):\n",
        "        mm[i][j] = (((np.max(np.array(m))-np.min(np.array(m)))/2) - m[i][j])\n",
        "    sim.append(mm)\n",
        "  return(sim)\n",
        "\n"
      ],
      "metadata": {
        "id": "tn6FPXlGI4Kv"
      },
      "execution_count": 36,
      "outputs": []
    },
    {
      "cell_type": "markdown",
      "source": [
        "### Demonstrating representational similarity output\n"
      ],
      "metadata": {
        "id": "HGcZClb65_cy"
      }
    },
    {
      "cell_type": "markdown",
      "source": [
        "#### Very similar matrix"
      ],
      "metadata": {
        "id": "o2jYv0Hw6JDn"
      }
    },
    {
      "cell_type": "code",
      "source": [
        "GG = np.array([[0, 0.5, 0.5],\n",
        "              [0.5, 0, 0.5],\n",
        "              [0.5, 0.5, 0]])\n",
        "GG2 = np.array([[0, 0.5, 0.35],\n",
        "              [0.45, 0, 0.5],\n",
        "              [0.5, 0.5, 0]])\n",
        "dist_G = distance([GG],[GG2])\n",
        "sim_G = dist_to_sim(dist_G)\n",
        "print(\"\\n Similarity Matrix \\n\", pd.DataFrame(sim_G[0]))\n",
        "print(\"\\n Average Similarity = \", round(np.average(sim_G[0]),3))\n",
        "print(\"\\n Interpretation: \\n Difference max = -0.5 \\n Similarity max =  0.5 \\n Unrelated  max =  0 \")"
      ],
      "metadata": {
        "colab": {
          "base_uri": "https://localhost:8080/"
        },
        "id": "1u92-bUG4oLW",
        "outputId": "40a90ab1-1f7e-4b1e-a7ad-3335e3e3d37e"
      },
      "execution_count": 62,
      "outputs": [
        {
          "output_type": "stream",
          "name": "stdout",
          "text": [
            "Calculating distance for pair 1 / 1\n",
            "Calculating similarity for 1 / 1\n",
            "\n",
            " Similarity Matrix \n",
            "           0    1    2\n",
            "0  0.500000  0.5 -0.5\n",
            "1  0.166667  0.5  0.5\n",
            "2  0.500000  0.5  0.5\n",
            "\n",
            " Average Similarity =  0.352\n",
            "\n",
            " Interpretation: \n",
            " Difference max = -0.5 \n",
            " Similarity max =  0.5 \n",
            " Unrelated  max =  0 \n"
          ]
        }
      ]
    },
    {
      "cell_type": "markdown",
      "source": [
        "#### Very different matrix"
      ],
      "metadata": {
        "id": "M1VNgZOe6Khh"
      }
    },
    {
      "cell_type": "code",
      "source": [
        "GG = np.array([[0, 0.5, 0.5],\n",
        "              [0.5, 0, 0.5],\n",
        "              [0.5, 0.5, 0]])\n",
        "GG2 = np.array([[0.2, -0.5, -0.35],\n",
        "              [-0.45, 0.1, -0.5],\n",
        "              [-0.5, -0.5, 0.7]])\n",
        "dist_G = distance([GG],[GG2])\n",
        "sim_G = dist_to_sim(dist_G)\n",
        "print(\"\\n Similarity Matrix \\n\", pd.DataFrame(sim_G[0]))\n",
        "print(\"\\n Average Similarity = \", round(np.average(sim_G[0]),3))\n",
        "print(\"\\n Interpretation: \\n Difference max = -0.5 \\n Similarity max =  0.5 \\n Unrelated  max =  0 \")"
      ],
      "metadata": {
        "colab": {
          "base_uri": "https://localhost:8080/"
        },
        "id": "JCFFIwHZ6OMv",
        "outputId": "4180bae7-24d6-40c1-84fd-f93b06863462"
      },
      "execution_count": 74,
      "outputs": [
        {
          "output_type": "stream",
          "name": "stdout",
          "text": [
            "Calculating distance for pair 1 / 1\n",
            "Calculating similarity for 1 / 1\n",
            "\n",
            " Similarity Matrix \n",
            "           0    1         2\n",
            "0  0.388889 -0.5 -0.333333\n",
            "1 -0.444444  0.5 -0.500000\n",
            "2 -0.500000 -0.5 -0.166667\n",
            "\n",
            " Average Similarity =  -0.228\n",
            "\n",
            " Interpretation: \n",
            " Difference max = -0.5 \n",
            " Similarity max =  0.5 \n",
            " Unrelated  max =  0 \n"
          ]
        }
      ]
    },
    {
      "cell_type": "markdown",
      "source": [
        "### Calculating Similarity for each matrix"
      ],
      "metadata": {
        "id": "BDNa79nh6tLS"
      }
    },
    {
      "cell_type": "code",
      "source": [
        "G"
      ],
      "metadata": {
        "colab": {
          "base_uri": "https://localhost:8080/"
        },
        "id": "LAjI2ihu_CwT",
        "outputId": "b4ab9190-4ddf-4093-c198-4291cd338633"
      },
      "execution_count": 42,
      "outputs": [
        {
          "output_type": "execute_result",
          "data": {
            "text/plain": [
              "array([[ 0. , -0.5, -0.5],\n",
              "       [-0.5,  0. ,  0.5],\n",
              "       [-0.5,  0.5,  0. ]])"
            ]
          },
          "metadata": {},
          "execution_count": 42
        }
      ]
    },
    {
      "cell_type": "markdown",
      "source": [
        "#### Correlation similarity"
      ],
      "metadata": {
        "id": "MioB6gGO6xkR"
      }
    },
    {
      "cell_type": "code",
      "source": [
        "dist_cor = distance([cor],[G])\n",
        "sim_cor = dist_to_sim(dist_cor)\n",
        "print(\"\\n Similarity Matrix \\n\", pd.DataFrame(sim_cor[0]))\n",
        "print(\"\\n Average Similarity= \", round(np.average(sim_cor[0]),3))\n",
        "print(\"\\n Interpretation: \\n Difference max = -0.5 \\n Similarity max =  0.5 \\n Unrelated  max =  0 \")"
      ],
      "metadata": {
        "colab": {
          "base_uri": "https://localhost:8080/"
        },
        "id": "Nog3Sw2IyIYr",
        "outputId": "a22aa3df-18f0-4fe3-c81d-e6fe733eca07"
      },
      "execution_count": 77,
      "outputs": [
        {
          "output_type": "stream",
          "name": "stdout",
          "text": [
            "Calculating distance for pair 1 / 1\n",
            "Calculating similarity for 1 / 1\n",
            "\n",
            " Similarity Matrix \n",
            "           0         1         2\n",
            "0  0.500000 -0.033771 -0.500000\n",
            "1 -0.033771  0.500000  0.014921\n",
            "2 -0.500000  0.014921  0.500000\n",
            "\n",
            " Average Similarity=  0.051\n",
            "\n",
            " Interpretation: \n",
            " Difference max = -0.5 \n",
            " Similarity max =  0.5 \n",
            " Unrelated  max =  0 \n"
          ]
        }
      ]
    },
    {
      "cell_type": "markdown",
      "source": [
        "### Delta Relu"
      ],
      "metadata": {
        "id": "5M0t_QNW84KN"
      }
    },
    {
      "cell_type": "code",
      "source": [
        "dist_ddr = distance([delta_relu],[G])\n",
        "sim_ddr = dist_to_sim(dist_ddr)\n",
        "print(\"\\n Similarity Matrix \\n\", pd.DataFrame(sim_ddr[0]))\n",
        "print(\"\\n Average Similarity = \", round(np.average(sim_ddr[0]),3))\n",
        "print(\"\\n Interpretation: \\n Difference max = -0.5 \\n Similarity max =  0.5 \\n Unrelated  max =  0 \")"
      ],
      "metadata": {
        "colab": {
          "base_uri": "https://localhost:8080/"
        },
        "id": "jqurkv2a89p-",
        "outputId": "58a548a8-10ec-4139-f12b-d7ca7ef2bf40"
      },
      "execution_count": 93,
      "outputs": [
        {
          "output_type": "stream",
          "name": "stdout",
          "text": [
            "Calculating distance for pair 1 / 1\n",
            "Calculating similarity for 1 / 1\n",
            "\n",
            " Similarity Matrix \n",
            "           0         1         2\n",
            "0  0.135466 -0.500000  0.332406\n",
            "1 -0.243452  0.121710  0.396345\n",
            "2 -0.184025 -0.057771  0.500000\n",
            "\n",
            " Average Similarity =  0.056\n",
            "\n",
            " Interpretation: \n",
            " Difference max = -0.5 \n",
            " Similarity max =  0.5 \n",
            " Unrelated  max =  0 \n"
          ]
        }
      ]
    },
    {
      "cell_type": "markdown",
      "source": [
        "Delta L"
      ],
      "metadata": {
        "id": "KcE-EBPv880d"
      }
    },
    {
      "cell_type": "code",
      "source": [
        "dist_ddl = distance([delta_l],[G])\n",
        "sim_ddl = dist_to_sim(dist_ddl)\n",
        "print(\"\\n Similarity Matrix \\n\", pd.DataFrame(sim_ddl[0]))\n",
        "print(\"\\n Average Similarity = \", round(np.average(sim_ddl[0]),3))\n",
        "print(\"\\n Interpretation: \\n Difference max = -0.5 \\n Similarity max =  0.5 \\n Unrelated  max =  0 \")"
      ],
      "metadata": {
        "colab": {
          "base_uri": "https://localhost:8080/"
        },
        "id": "tAYxh2fY86i2",
        "outputId": "e6ffacfb-136f-44c0-979b-981a3397cf65"
      },
      "execution_count": 94,
      "outputs": [
        {
          "output_type": "stream",
          "name": "stdout",
          "text": [
            "Calculating distance for pair 1 / 1\n",
            "Calculating similarity for 1 / 1\n",
            "\n",
            " Similarity Matrix \n",
            "           0         1         2\n",
            "0  0.165169  0.161990  0.165737\n",
            "1  0.191553  0.500000  0.110922\n",
            "2 -0.500000  0.299648 -0.361000\n",
            "\n",
            " Average Similarity =  0.082\n",
            "\n",
            " Interpretation: \n",
            " Difference max = -0.5 \n",
            " Similarity max =  0.5 \n",
            " Unrelated  max =  0 \n"
          ]
        }
      ]
    },
    {
      "cell_type": "markdown",
      "source": [
        "### Regularized Linear"
      ],
      "metadata": {
        "id": "XIMGRphl65kZ"
      }
    },
    {
      "cell_type": "code",
      "source": [
        "dist_ddcl = distance([ddc_l],[G])\n",
        "sim_ddcl = dist_to_sim(dist_ddcl)\n",
        "print(\"\\n Similarity Matrix \\n\", pd.DataFrame(sim_ddcl[0]))\n",
        "print(\"\\n Average Similarity = \", round(np.average(sim_ddcl[0]),3))\n",
        "print(\"\\n Interpretation: \\n Difference max = -0.5 \\n Similarity max =  0.5 \\n Unrelated  max =  0 \")"
      ],
      "metadata": {
        "colab": {
          "base_uri": "https://localhost:8080/"
        },
        "id": "_C6gTAGf1unJ",
        "outputId": "45e080c3-35d7-450a-bc8c-6c3832752d26"
      },
      "execution_count": 78,
      "outputs": [
        {
          "output_type": "stream",
          "name": "stdout",
          "text": [
            "Calculating distance for pair 1 / 1\n",
            "Calculating similarity for 1 / 1\n",
            "\n",
            " Similarity Matrix \n",
            "           0         1         2\n",
            "0 -0.500000  0.500000  0.238728\n",
            "1  0.215275  0.342765  0.339613\n",
            "2  0.435453  0.294961  0.030537\n",
            "\n",
            " Average Similarity =  0.211\n",
            "\n",
            " Interpretation: \n",
            " Difference max = -0.5 \n",
            " Similarity max =  0.5 \n",
            " Unrelated  max =  0 \n"
          ]
        }
      ]
    },
    {
      "cell_type": "markdown",
      "source": [
        "#### Regularized non-linear"
      ],
      "metadata": {
        "id": "BoEmqBee61HZ"
      }
    },
    {
      "cell_type": "code",
      "source": [
        "dist_ddcr = distance([ddc_relu],[G])\n",
        "sim_ddcr = dist_to_sim(dist_ddcr)\n",
        "print(\"\\n Similarity Matrix \\n\", pd.DataFrame(sim_ddcr[0]))\n",
        "print(\"\\n Average Similarity = \", round(np.average(sim_ddcr[0]),3))\n",
        "print(\"\\n Interpretation: \\n Difference max = -0.5 \\n Similarity max =  0.5 \\n Unrelated  max =  0 \")"
      ],
      "metadata": {
        "colab": {
          "base_uri": "https://localhost:8080/"
        },
        "id": "C4odEkzmzco_",
        "outputId": "d3c0f858-e722-4012-aade-6e1b212a8782"
      },
      "execution_count": 95,
      "outputs": [
        {
          "output_type": "stream",
          "name": "stdout",
          "text": [
            "Calculating distance for pair 1 / 1\n",
            "Calculating similarity for 1 / 1\n",
            "\n",
            " Similarity Matrix \n",
            "           0         1         2\n",
            "0 -0.500000  0.296918  0.243730\n",
            "1  0.099053 -0.009515  0.500000\n",
            "2  0.487384  0.215649  0.221647\n",
            "\n",
            " Average Similarity =  0.173\n",
            "\n",
            " Interpretation: \n",
            " Difference max = -0.5 \n",
            " Similarity max =  0.5 \n",
            " Unrelated  max =  0 \n"
          ]
        }
      ]
    },
    {
      "cell_type": "markdown",
      "source": [
        "## Cosine similarity to evaluate recovery"
      ],
      "metadata": {
        "id": "wBBQBq1i7aRL"
      }
    },
    {
      "cell_type": "markdown",
      "source": [
        "### Correlation\n"
      ],
      "metadata": {
        "id": "kcv6tDBF7gAG"
      }
    },
    {
      "cell_type": "code",
      "source": [
        "print(cosine_similarity(cor, G))\n",
        "np.average(cosine_similarity(cor, G))"
      ],
      "metadata": {
        "colab": {
          "base_uri": "https://localhost:8080/"
        },
        "id": "LfJFJ6fpGsxk",
        "outputId": "8f999dda-863b-4d45-edbf-8054f192e8aa"
      },
      "execution_count": 96,
      "outputs": [
        {
          "output_type": "stream",
          "name": "stdout",
          "text": [
            "[[-0.82967103  0.69396182  0.1357092 ]\n",
            " [ 0.35033964 -0.96455632 -0.61421669]\n",
            " [ 0.07838651 -0.70274857 -0.78113509]]\n"
          ]
        },
        {
          "output_type": "execute_result",
          "data": {
            "text/plain": [
              "-0.2926589462420968"
            ]
          },
          "metadata": {},
          "execution_count": 96
        }
      ]
    },
    {
      "cell_type": "markdown",
      "source": [
        "### Regularized linear DDC"
      ],
      "metadata": {
        "id": "Gck43zq97mWo"
      }
    },
    {
      "cell_type": "code",
      "source": [
        "print(cosine_similarity(ddc_l_p, G))\n",
        "np.average(cosine_similarity(ddc_l_p, G))"
      ],
      "metadata": {
        "colab": {
          "base_uri": "https://localhost:8080/"
        },
        "id": "QjFeJKtnGydz",
        "outputId": "bd318e7c-016f-4354-f95d-5284cbc74f79"
      },
      "execution_count": 106,
      "outputs": [
        {
          "output_type": "stream",
          "name": "stdout",
          "text": [
            "[[ 0.99016947 -0.56502117 -0.4251483 ]\n",
            " [-0.56054481  0.99157789  0.43103308]\n",
            " [-0.59706011  0.37883931  0.97589942]]\n"
          ]
        },
        {
          "output_type": "execute_result",
          "data": {
            "text/plain": [
              "0.17997164286404382"
            ]
          },
          "metadata": {},
          "execution_count": 106
        }
      ]
    },
    {
      "cell_type": "markdown",
      "source": [
        "### Regularized non-linear DDC"
      ],
      "metadata": {
        "id": "0s13QLKp7iZk"
      }
    },
    {
      "cell_type": "code",
      "source": [
        "print(cosine_similarity(ddc_relu_p, G))\n",
        "np.average(cosine_similarity(ddc_relu_p, G))"
      ],
      "metadata": {
        "colab": {
          "base_uri": "https://localhost:8080/"
        },
        "id": "F6ZO78rD29ET",
        "outputId": "d65c9cbc-62f1-4dd7-dc8b-05a734f496fd"
      },
      "execution_count": 105,
      "outputs": [
        {
          "output_type": "stream",
          "name": "stdout",
          "text": [
            "[[ 0.95006536 -0.63105817 -0.31900719]\n",
            " [-0.6468816   0.93244104  0.28555944]\n",
            " [-0.58636292  0.39519429  0.98155721]]\n"
          ]
        },
        {
          "output_type": "execute_result",
          "data": {
            "text/plain": [
              "0.15127860797081005"
            ]
          },
          "metadata": {},
          "execution_count": 105
        }
      ]
    },
    {
      "cell_type": "code",
      "source": [
        "print(cosine_similarity(delta_l, G))\n",
        "np.average(cosine_similarity(delta_l, G))"
      ],
      "metadata": {
        "colab": {
          "base_uri": "https://localhost:8080/"
        },
        "id": "eoEDRhCV9n9U",
        "outputId": "f63a7e4c-3f2d-40bb-ce31-654c733e7a8c"
      },
      "execution_count": 101,
      "outputs": [
        {
          "output_type": "stream",
          "name": "stdout",
          "text": [
            "[[-0.73695465  0.8445379   0.84832833]\n",
            " [-0.41194248  0.98472993  0.34532642]\n",
            " [ 0.59784767 -0.98742747 -0.61220448]]\n"
          ]
        },
        {
          "output_type": "execute_result",
          "data": {
            "text/plain": [
              "0.09691568545208223"
            ]
          },
          "metadata": {},
          "execution_count": 101
        }
      ]
    },
    {
      "cell_type": "code",
      "source": [
        "print(cosine_similarity(delta_relu, G))\n",
        "np.average(cosine_similarity(delta_relu, G))"
      ],
      "metadata": {
        "colab": {
          "base_uri": "https://localhost:8080/"
        },
        "id": "FYksOxrh9oIJ",
        "outputId": "e5a53a34-dc6d-445e-bec5-63608c84d76b"
      },
      "execution_count": 102,
      "outputs": [
        {
          "output_type": "stream",
          "name": "stdout",
          "text": [
            "[[-0.16159145  0.09255642  0.89040563]\n",
            " [ 0.05110982  0.16738093 -0.7561247 ]\n",
            " [ 0.42402683 -0.86209069 -0.84241585]]\n"
          ]
        },
        {
          "output_type": "execute_result",
          "data": {
            "text/plain": [
              "-0.11074923055766828"
            ]
          },
          "metadata": {},
          "execution_count": 102
        }
      ]
    },
    {
      "cell_type": "markdown",
      "source": [
        "# Junk / Experimental"
      ],
      "metadata": {
        "id": "qeCiRRVhjBn3"
      }
    },
    {
      "cell_type": "code",
      "source": [
        "# import numpy as np\n",
        "# import pandas as pd\n",
        "# from numpy.linalg import inv\n",
        "# from scipy.stats import zscore\n",
        "# from numpy.linalg import matrix_rank\n",
        "# from sklearn.linear_model import Ridge\n",
        "# from sklearn.linear_model import RidgeCV\n",
        "# import sklearn\n",
        "\n",
        "\n",
        "\n",
        "# def estimators(V_obs, thres, TR):\n",
        "#     \"\"\"\n",
        "#     Compute covariance, precision matrix, B matrix, and differential covariance matrix from observed data.\n",
        "\n",
        "#     Parameters:\n",
        "#     - V_obs (numpy.ndarray): Observed data matrix (T x N), where T is the number of time points and N is the number of variables.\n",
        "#     - thres (float): Threshold value used to modify V_obs for B matrix computation.\n",
        "#     - TR (float): Time resolution used for differential computation.\n",
        "\n",
        "#     Returns:\n",
        "#     - Cov (numpy.ndarray): Covariance matrix of the observed data (N x N).\n",
        "#     - precision (numpy.ndarray): Precision matrix (inverse of Cov) (N x N).\n",
        "#     - B (numpy.ndarray): Covariance between thresholded data and observed data (N x N).\n",
        "#     - dCov (numpy.ndarray): Differential covariance matrix (N x N).\n",
        "#     \"\"\"\n",
        "#     T, N = np.shape(V_obs)\n",
        "#     Cov = np.cov(V_obs, rowvar=False)\n",
        "#     precision = inv(Cov)\n",
        "#     Fx = V_obs - thres\n",
        "#     Fx[Fx < 0] = 0\n",
        "#     tmp = np.hstack((Fx, V_obs))\n",
        "#     B_tmp = np.cov(tmp, rowvar=False)\n",
        "#     B = B_tmp[0:N, N:]\n",
        "#     dV = np.array(((-1 / 2 * V_obs[0:-2, :] + 1 / 2 * V_obs[2:, :])) / TR)\n",
        "#     rowmean = np.mean(dV, axis=0)\n",
        "#     dV = np.vstack([rowmean, dV, rowmean])\n",
        "#     tmp_2 = np.hstack((dV, V_obs))\n",
        "#     dCov = tmp_2[0:N, N + 1 :]\n",
        "\n",
        "#     return Cov, precision, B, dCov\n",
        "\n",
        "# def derivative_123(f, dm, dt):\n",
        "#     \"\"\"\n",
        "#     Compute the first numerical derivative using a custom method based on window sizes and time differences.\n",
        "\n",
        "#     Parameters:\n",
        "#     - f (numpy.ndarray): Input time series data.\n",
        "#     - dm (int): Maximum window size for derivative computation.\n",
        "#     - dt (float): Time step size.\n",
        "\n",
        "#     Returns:\n",
        "#     - D1 (float): First derivative result.\n",
        "#     - D2 (float): Second derivative result.\n",
        "#     - D3 (float): Third derivative result.\n",
        "#     \"\"\"\n",
        "#     t = np.arange(dm, len(f) - dm)\n",
        "#     # D1 (First Derivative)\n",
        "#     D1, d1 = 0, 0\n",
        "\n",
        "#     for n1 in range(1, dm + 1):\n",
        "#         for n2 in range(n1 + 1, dm + 1):\n",
        "#             d1 += 1\n",
        "#             D1 += -((\n",
        "#                 f[t - n2] * n1**3 - f[t + n2] * n1**3 - f[t - n1] * n2**3 + f[t + n1] * n2**3\n",
        "#             ) / (2 * dt * n1**3 * n2 - 2 * dt * n1 * n2**3))\n",
        "\n",
        "#     D1 /= d1\n",
        "\n",
        "#     # D2 (Second Derivative)\n",
        "#     D2, d2 = 0, 0\n",
        "#     for n1 in range(1, dm + 1):\n",
        "#         for n2 in range(n1 + 1, dm + 1):\n",
        "#             d2 += 1\n",
        "#             numerator = (f[t - n2] * n1**4 + f[t + n2] * n1**4 -\n",
        "#                          f[t - n1] * n2**4 - f[t + n1] * n2**4 -\n",
        "#                          2 * f[t] * (n1**4 - n2**4))\n",
        "#             denominator = (dt**2 * n2**2 * (n1**4 - n1**2 * n2**2))\n",
        "#             D2 += numerator / denominator\n",
        "#     D2 /= d2\n",
        "\n",
        "#     # D3 (Third Derivative)\n",
        "#     D3, d3 = 0, 0\n",
        "#     for n1 in range(1, dm + 1):\n",
        "#         for n2 in range(n1 + 1, dm + 1):\n",
        "#             for n3 in range(n2 + 1, dm + 1):\n",
        "#                 d3 += 1\n",
        "#                 numerator = (3 * (f[t - n3] * n1 * n2 * (n1**4 - n2**4) +\n",
        "#                                   f[t + n3] * (-n1**5 * n2 + n1 * n2**5) +\n",
        "#                                   n3 * ((f[t - n1] - f[t + n1]) * n2 * (n2**4 - n3**4) +\n",
        "#                                         f[t + n2] * (n1**5 - n1 * n3**4) +\n",
        "#                                         f[t - n2] * (-n1**5 + n1 * n3**4))))\n",
        "#                 denominator = (dt**3 * n1 * (n1**2 - n2**2) * n3 * (n1**2 - n3**2) * (n2**3 - n2 * n3**2))\n",
        "#                 D3 += numerator / denominator\n",
        "#     D3 /= d3\n",
        "#     return D1, D2, D3\n",
        "\n",
        "# # def derivative_123(f, dm, dt):\n",
        "# #     \"\"\"\n",
        "# #     Compute the first numerical derivative using a custom method based on window sizes and time differences.\n",
        "\n",
        "# #     Parameters:\n",
        "# #     - f (numpy.ndarray): Input time series data.\n",
        "# #     - dm (int): Maximum window size for derivative computation.\n",
        "# #     - dt (float): Time step size.\n",
        "\n",
        "# #     Returns:\n",
        "# #     - D1 (float): First derivative result.\n",
        "# #     - D2 (float): Second derivative result.\n",
        "# #     - D3 (float): Third derivative result.\n",
        "# #     \"\"\"\n",
        "# #     t = np.arange(dm, len(f) - dm)\n",
        "# #     D1, D2, D3 = 0, 0, 0\n",
        "# #     d1, d2, d3 = 0, 0, 0\n",
        "# #     for n1 in range(1, dm + 1):\n",
        "# #         # n1i = n1 - 1\n",
        "# #         for n2 in range(n1 + 1, dm + 1):\n",
        "# #             # n2i = n2 - 1\n",
        "# #             d1 += 1\n",
        "# #             D1 += -(\n",
        "# #                 (\n",
        "# #                     f[t - n2] * n1**3\n",
        "# #                     - f[t + n2] * n1**3\n",
        "# #                     - f[t - n1] * n2**3\n",
        "# #                     + f[t + n1] * n2**3\n",
        "# #                 )\n",
        "# #                 / (2 * dt * n1**3 * n2 - 2 * dt * n1 * n2**3)\n",
        "# #             )\n",
        "# #             \"\"\"\n",
        "# #             for n3 in range(n2 + 1, dm + 1):\n",
        "# #                 #n3i = n3-1\n",
        "# #                 d3 += 1\n",
        "# #                 D3 += (3 * (f[t - n3i] * n1 * n2 * (n1 ** 4 - n2 ** 4) +\n",
        "# #                             f[t + n3i] * (-(n1 ** 5 * n2) + n1 * n2 ** 5) +\n",
        "# #                             n3 * ((f[t - n1i] - f[t + n1i]) * n2 * (n2 ** 4 - n3 ** 4) +\n",
        "# #                                   f[t + n2i] * (n1 ** 5 - n1 * n3 ** 4) + f[t - n2i] * (-n1 ** 5 + n1 * n3 ** 4)))) / \\\n",
        "# #                       (dt ** 3 * n1 * (n1 ** 2 - n2 ** 2) * n3 * (n1 ** 2 - n3 ** 2) * (n2 ** 3 - n2 * n3 ** 2))\n",
        "\n",
        "# #             d2 += 1\n",
        "# #             D2 += (f[t - n2i] * n1 ** 4 + f[t + n2i] * n1 ** 4 - f[t - n1i] * n2 ** 4 - f[t + n1i] * n2 ** 4 -\n",
        "# #                    2 * f[t] * (n1 ** 4 - n2 ** 4)) / \\\n",
        "# #                   (dt ** 2 * n2 ** 2 * (n1 ** 4 - n1 ** 2 * n2 ** 2))\n",
        "# #             \"\"\"\n",
        "# #     D1 = D1 / d1\n",
        "# #     # D2 = D2 / d2\n",
        "# #     # D3 = D3 / d3\n",
        "\n",
        "# #     return D1, D2, D3\n",
        "\n",
        "\n",
        "# def dCov_numerical(cx, h, dm=4):\n",
        "#     \"\"\"\n",
        "#     Compute various numerical differential covariance matrices using different finite difference methods.\n",
        "\n",
        "#     Parameters:\n",
        "#     - cx (numpy.ndarray): Time series data matrix (T x N).\n",
        "#     - h (float): Step size for numerical differentiation.\n",
        "#     - dm (int, optional): Maximum window size for custom derivative computation. Default is 4.\n",
        "\n",
        "#     Returns:\n",
        "#     - dCov1 (numpy.ndarray): Differential covariance using first difference method (N x N).\n",
        "#     - dCov2 (numpy.ndarray): Differential covariance using central difference method (N x N).\n",
        "#     - dCov5 (numpy.ndarray): Differential covariance using a higher-order difference method (N x N).\n",
        "#     - dCov_center (numpy.ndarray): Differential covariance using a custom centered method (N x N).\n",
        "#     \"\"\"\n",
        "#     T, N = np.shape(cx)\n",
        "#     diff_cx = np.array((cx[1:, :] - cx[0:-1, :]) / h)\n",
        "#     rowmean = np.mean(diff_cx, axis=0)\n",
        "#     diff_cx = np.vstack([diff_cx, rowmean])\n",
        "#     Csample = np.cov(np.hstack((diff_cx, cx)).T)\n",
        "#     dCov1 = Csample[0:N, N : N + N]\n",
        "\n",
        "#     diff_cx = np.array((1 / 2 * cx[2:, :] - (1 / 2 * cx[0:-2, :])) / h)\n",
        "#     rowmean = np.mean(diff_cx, axis=0)\n",
        "#     diff_cx = np.vstack([rowmean, diff_cx, rowmean])\n",
        "#     Csample = np.cov(np.hstack((diff_cx, cx)).T)\n",
        "#     dCov2 = Csample[0:N, N : N + N]\n",
        "\n",
        "#     diff_cx = np.array(\n",
        "#         (-cx[4:, :] + 8 * cx[3:-1, :] - 8 * cx[1:-3, :] + cx[:-4, :]) / (12 * h)\n",
        "#     )\n",
        "#     rowmean = np.mean(diff_cx, axis=0)\n",
        "#     diff_cx = np.vstack([rowmean, rowmean, diff_cx, rowmean, rowmean])\n",
        "#     Csample = np.cov(np.hstack((diff_cx, cx)).T)\n",
        "#     dCov5 = Csample[0:N, N : N + N]\n",
        "\n",
        "#     diff_cx = None\n",
        "#     for i in range(N):\n",
        "#         dx, _, _ = derivative_123(cx[:, i], dm, h)\n",
        "#         if diff_cx is None:\n",
        "#             diff_cx = dx\n",
        "#         else:\n",
        "#             diff_cx = np.c_[diff_cx, dx]\n",
        "#     cx_trunc = cx[dm : T - dm, :]\n",
        "#     Csample = np.cov(np.hstack((diff_cx, cx_trunc)).T)\n",
        "#     dCov_center = Csample[:N, N : N + N]\n",
        "\n",
        "#     return dCov1, dCov2, dCov5, dCov_center\n",
        "\n",
        "\n",
        "# def prctile(x, p):\n",
        "#     \"\"\"\n",
        "#     Compute percentiles for an array using an adjusted scale to handle edge cases.\n",
        "\n",
        "#     Parameters:\n",
        "#     - x (numpy.ndarray): Input array of data.\n",
        "#     - p (float or array-like): Percentile(s) to compute.\n",
        "\n",
        "#     Returns:\n",
        "#     - (numpy.ndarray): Percentile value(s) of the input array.\n",
        "#     \"\"\"\n",
        "#     p = np.asarray(p, dtype=float)\n",
        "#     n = len(x)\n",
        "#     p = (p - 50) * n / (n - 1) + 50\n",
        "#     p = np.clip(p, 0, 100)\n",
        "\n",
        "#     return np.percentile(x, p)\n",
        "\n",
        "\n",
        "# def compute_ddc(ts, TR, d):\n",
        "#     \"\"\"\n",
        "#     Compute Dynamical Differential Covariance (DDC) and its regularized versions.\n",
        "\n",
        "#     Parameters:\n",
        "#     - ts (numpy.ndarray): Time series data (T x N).\n",
        "#     - TR (float): Time resolution of the data.\n",
        "#     - d (int or str): Type of differential covariance to use; 2 for `dCov2`, \"c\" for `dCov_center`.\n",
        "\n",
        "#     Returns:\n",
        "#     - Cov (numpy.ndarray): Covariance matrix of the time series (N x N).\n",
        "#     - DDC (numpy.ndarray): Dynamical Differential Covariance matrix (N x N).\n",
        "#     - Reg_DDC (numpy.ndarray): Regularized DDC matrix using ridge regression (N x N).\n",
        "#     - nl_DDC (numpy.ndarray): Non-linear DDC estimator (N x N).\n",
        "#     - qc_flag (int): Quality control flag indicating if the covariance matrix is rank deficient (0 = no issue, 1 = rank deficient).\n",
        "#     \"\"\"\n",
        "#     if np.max(ts[0, :]) == ts[0, -1] and np.min(ts[0, :]) == ts[0, 0]:\n",
        "#         ts = ts[1:, :]\n",
        "\n",
        "#     T, N = ts.shape\n",
        "#     V_obs = zscore(ts, ddof=1)\n",
        "#     dCov1, dCov2, _, dCov_center = dCov_numerical(V_obs, TR)\n",
        "#     Cov, Precision, B, _ = estimators(V_obs, 0, TR)\n",
        "\n",
        "#     if matrix_rank(Cov) < len(Cov):\n",
        "#         print(\"Cov is rank deficient!\")\n",
        "#         qc_flag=1\n",
        "#     else:\n",
        "#         qc_flag=0\n",
        "\n",
        "#     if d == 2:  # using dCov2\n",
        "#         DDC = dCov2 @ Precision  # Delta L\n",
        "#         nl_DDC = dCov2 @ B  # Delta ReLu\n",
        "\n",
        "#         C = dCov2\n",
        "#         B = Cov\n",
        "#         Reg_DDC = np.zeros(np.shape(C))\n",
        "\n",
        "#         l = 1e-2\n",
        "#         Bb = sklearn.preprocessing.scale(B)\n",
        "\n",
        "#         for n in range(len(C)):\n",
        "#             ci = C[n, :]\n",
        "#             ridgereg = Ridge(alpha=l)\n",
        "#             ridgereg.fit(Bb, ci.T)\n",
        "#             coef = ridgereg.coef_\n",
        "#             Reg_DDC[n, :] = coef.T\n",
        "\n",
        "#     elif d == \"c\":  # using dCov_center\n",
        "#         DDC = dCov_center @ Precision  # Delta L\n",
        "#         nl_DDC = dCov_center @ B  # Delta ReLu\n",
        "\n",
        "#         C = dCov_center\n",
        "#         B = Cov\n",
        "#         Reg_DDC = np.zeros(np.shape(C))\n",
        "\n",
        "#         l = 1e-2\n",
        "#         Bb = sklearn.preprocessing.scale(B)\n",
        "#         for n in range(len(C)):\n",
        "#             ci = C[n, :]\n",
        "#             ridgereg = Ridge(alpha=l)\n",
        "#             ridgereg.fit(Bb, ci.T)\n",
        "#             coef = ridgereg.coef_\n",
        "#             Reg_DDC[n, :] = coef.T\n",
        "\n",
        "#     return Cov, sklearn.preprocessing.scale(DDC), sklearn.preprocessing.scale(Reg_DDC), sklearn.preprocessing.scale(nl_DDC), qc_flag\n",
        "\n"
      ],
      "metadata": {
        "id": "7aeW-dNpgO1O"
      },
      "execution_count": null,
      "outputs": []
    },
    {
      "cell_type": "code",
      "source": [
        "# th_ddc = compute_ddc(V_pre, deltaT,2)"
      ],
      "metadata": {
        "id": "BZ6TqeBhuUrf"
      },
      "execution_count": null,
      "outputs": []
    },
    {
      "cell_type": "code",
      "source": [
        "# estimator = [\"Cov\", \"DDC\", \"Reg_DDC\", \"nl_DDC\"]\n",
        "# th_ddc = compute_ddc(V_pre, deltaT, 2)\n",
        "# print(\"Ground Truth\")\n",
        "# sns.heatmap(np.round(G,3), annot=True, cmap = 'viridis', vmin=-0.05, vmax=0.05)\n",
        "# plt.show()\n",
        "# for i in range(len(th_ddc)-1):\n",
        "#   pp = th_ddc[i]\n",
        "#   np.fill_diagonal(pp,0)\n",
        "#   print(estimator[i])\n",
        "#   sns.heatmap(np.round(pp,3), annot=True, cmap = 'viridis', vmin=-0.05, vmax=0.05)\n",
        "#   plt.show()"
      ],
      "metadata": {
        "colab": {
          "base_uri": "https://localhost:8080/",
          "height": 1000
        },
        "id": "lLoPmTsjdOaA",
        "outputId": "3c802f12-f140-4822-8466-06c6ae7bf843"
      },
      "execution_count": null,
      "outputs": [
        {
          "output_type": "stream",
          "name": "stdout",
          "text": [
            "Ground Truth\n"
          ]
        },
        {
          "output_type": "display_data",
          "data": {
            "text/plain": [
              "<Figure size 640x480 with 2 Axes>"
            ],
            "image/png": "[encoded data removed]"
          },
          "metadata": {}
        },
        {
          "output_type": "stream",
          "name": "stdout",
          "text": [
            "Cov\n"
          ]
        },
        {
          "output_type": "display_data",
          "data": {
            "text/plain": [
              "<Figure size 640x480 with 2 Axes>"
            ],
            "image/png": "[encoded data removed]"
          },
          "metadata": {}
        },
        {
          "output_type": "stream",
          "name": "stdout",
          "text": [
            "DDC\n"
          ]
        },
        {
          "output_type": "display_data",
          "data": {
            "text/plain": [
              "<Figure size 640x480 with 2 Axes>"
            ],
            "image/png": "[encoded data removed]"
          },
          "metadata": {}
        },
        {
          "output_type": "stream",
          "name": "stdout",
          "text": [
            "Reg_DDC\n"
          ]
        },
        {
          "output_type": "display_data",
          "data": {
            "text/plain": [
              "<Figure size 640x480 with 2 Axes>"
            ],
            "image/png": "[encoded data removed]"
          },
          "metadata": {}
        },
        {
          "output_type": "stream",
          "name": "stdout",
          "text": [
            "nl_DDC\n"
          ]
        },
        {
          "output_type": "display_data",
          "data": {
            "text/plain": [
              "<Figure size 640x480 with 2 Axes>"
            ],
            "image/png": "[encoded data removed]"
          },
          "metadata": {}
        }
      ]
    },
    {
      "cell_type": "code",
      "source": [
        "# dCov1, dCov2,_,dCovC = dCov_numerical(V_pre, deltaT)\n",
        "# Cov,Precision,B,_ = estimators(V_pre, np.percentile(V_pre,50), deltaT)"
      ],
      "metadata": {
        "id": "8EnYl8dZ0vbk"
      },
      "execution_count": null,
      "outputs": []
    },
    {
      "cell_type": "code",
      "source": [
        "# B"
      ],
      "metadata": {
        "colab": {
          "base_uri": "https://localhost:8080/"
        },
        "id": "LIVDTW2k0wZd",
        "outputId": "fc0c86b2-a204-4bf3-a0d6-e23b959e8b4c"
      },
      "execution_count": null,
      "outputs": [
        {
          "output_type": "execute_result",
          "data": {
            "text/plain": [
              "array([[ 9.97161151e-03, -1.98559526e-03,  6.09884064e-03],\n",
              "       [ 9.97710015e-05,  3.47846662e-02, -4.35186645e-03],\n",
              "       [ 4.98755863e-03, -1.54228051e-03,  4.92672789e-03]])"
            ]
          },
          "metadata": {},
          "execution_count": 149
        }
      ]
    },
    {
      "cell_type": "code",
      "source": [
        "# dCov1"
      ],
      "metadata": {
        "colab": {
          "base_uri": "https://localhost:8080/"
        },
        "id": "CbiZ5pun017T",
        "outputId": "134350e4-1a0a-487f-8acc-6a936ecfaf23"
      },
      "execution_count": null,
      "outputs": [
        {
          "output_type": "execute_result",
          "data": {
            "text/plain": [
              "array([[-7.68476930e-05,  1.38657970e-05, -3.30430684e-05],\n",
              "       [-7.00434802e-05, -1.40273880e-04,  1.62477510e-05],\n",
              "       [ 2.08350092e-05, -7.00145003e-05, -8.81346022e-05]])"
            ]
          },
          "metadata": {},
          "execution_count": 150
        }
      ]
    },
    {
      "cell_type": "code",
      "source": [
        "# dCov2"
      ],
      "metadata": {
        "colab": {
          "base_uri": "https://localhost:8080/"
        },
        "id": "x9EDn_9f0-Hv",
        "outputId": "2726367f-2a2b-4fe0-f890-51f60d2dae77"
      },
      "execution_count": null,
      "outputs": [
        {
          "output_type": "execute_result",
          "data": {
            "text/plain": [
              "array([[ 1.32628246e-06,  1.28353279e-05, -3.25960082e-05],\n",
              "       [-7.01625674e-05, -6.09053269e-05,  1.64244157e-05],\n",
              "       [ 2.14489897e-05, -6.98126646e-05, -8.40266130e-06]])"
            ]
          },
          "metadata": {},
          "execution_count": 151
        }
      ]
    },
    {
      "cell_type": "code",
      "source": [
        "# G"
      ],
      "metadata": {
        "colab": {
          "base_uri": "https://localhost:8080/"
        },
        "id": "Lg6zNAWi1B1a",
        "outputId": "81bfe7a6-5147-414a-8958-da89b44bb3f8"
      },
      "execution_count": null,
      "outputs": [
        {
          "output_type": "execute_result",
          "data": {
            "text/plain": [
              "array([[ 0. , -0.5, -0.5],\n",
              "       [-0.5,  0. ,  0.5],\n",
              "       [-0.5,  0.5,  0. ]])"
            ]
          },
          "metadata": {},
          "execution_count": 152
        }
      ]
    },
    {
      "cell_type": "code",
      "source": [
        "# delta_l = np.matmul(dCovC,Precision)\n",
        "# delta_l"
      ],
      "metadata": {
        "colab": {
          "base_uri": "https://localhost:8080/"
        },
        "id": "_8GSzrSR1Gd8",
        "outputId": "31af60f0-1401-4831-d730-097d5a7e4e3c"
      },
      "execution_count": null,
      "outputs": [
        {
          "output_type": "execute_result",
          "data": {
            "text/plain": [
              "array([[ 4.56197362e-05, -1.90697214e-06, -6.55287594e-05],\n",
              "       [-1.42297592e-04, -3.25691927e-05,  1.12747868e-04],\n",
              "       [ 8.44144316e-05, -8.45104971e-05, -7.16253103e-05]])"
            ]
          },
          "metadata": {},
          "execution_count": 166
        }
      ]
    },
    {
      "cell_type": "code",
      "source": [
        "# delta_relu = np.matmul(dCovC,B)\n",
        "# delta_relu"
      ],
      "metadata": {
        "colab": {
          "base_uri": "https://localhost:8080/"
        },
        "id": "FOmmzjbu0-Lu",
        "outputId": "5937aafa-faed-4b28-91c4-72bb0224ff75"
      },
      "execution_count": null,
      "outputs": [
        {
          "output_type": "execute_result",
          "data": {
            "text/plain": [
              "array([[-8.48020224e-06,  6.19611544e-06, -1.11046594e-05],\n",
              "       [-1.01111094e-05, -1.07911334e-05, -3.59495947e-06],\n",
              "       [ 1.36554511e-05, -2.12049482e-05,  1.02657247e-05]])"
            ]
          },
          "metadata": {},
          "execution_count": 167
        }
      ]
    },
    {
      "cell_type": "code",
      "source": [
        "# https://github.com/margotwagner/DDC/blob/main/src/py_DDC/Compute_DDC.py\n",
        "# import numpy as np\n",
        "# from numpy.linalg import inv, matrix_rank\n",
        "# from scipy.stats import zscore\n",
        "# from sklearn.linear_model import Ridge\n",
        "# from sklearn.preprocessing import scale\n",
        "# # from fracdiff import fdiff\n",
        "\n",
        "\n",
        "# def estimators(V_obs, thres, TR):\n",
        "#     \"\"\"\n",
        "#     Compute covariance, precision matrix, B matrix, and differential covariance matrix from observed data.\n",
        "\n",
        "#     Parameters:\n",
        "#     - V_obs (numpy.ndarray): Observed data matrix (T x N), where T is the number of time points and N is the number of variables.\n",
        "#     - thres (float): Threshold value used to modify V_obs for B matrix computation.\n",
        "#     - TR (float): Time resolution used for differential computation.\n",
        "\n",
        "#     Returns:\n",
        "#     - Cov (numpy.ndarray): Covariance matrix of the observed data (N x N).\n",
        "#     - precision (numpy.ndarray): Precision matrix (inverse of Cov) (N x N).\n",
        "#     - B (numpy.ndarray): Covariance between thresholded data and observed data (N x N).\n",
        "#     - dCov (numpy.ndarray): Differential covariance matrix (N x N).\n",
        "#     \"\"\"\n",
        "#     T, N = V_obs.shape\n",
        "#     Cov = np.cov(V_obs, rowvar=False)\n",
        "#     precision = inv(Cov)\n",
        "\n",
        "#     # Threshold and compute B matrix\n",
        "#     Fx = np.maximum(V_obs - thres, 0)\n",
        "#     B_tmp = np.cov(np.hstack((Fx, V_obs)), rowvar=False)\n",
        "#     B = B_tmp[:N, N:]\n",
        "\n",
        "#     # Compute differential covariance\n",
        "#     dV = (-0.5 * V_obs[:-2, :] + 0.5 * V_obs[2:, :]) / TR\n",
        "#     rowmean = np.mean(dV, axis=0)\n",
        "#     dV = np.vstack([rowmean, dV, rowmean])\n",
        "\n",
        "#     dCov = np.cov(np.hstack((dV, V_obs)), rowvar=False)[0:N, N:]\n",
        "\n",
        "#     return Cov, precision, B, dCov\n",
        "\n",
        "\n",
        "# def derivative_123(f, dm, dt):\n",
        "#     \"\"\"\n",
        "#     Compute the first numerical derivative using a custom method based on window sizes and time differences.\n",
        "\n",
        "#     Parameters:\n",
        "#     - f (numpy.ndarray): Input time series data.\n",
        "#     - dm (int): Maximum window size for derivative computation.\n",
        "#     - dt (float): Time step size.\n",
        "\n",
        "#     Returns:\n",
        "#     - D1 (float): First derivative result.\n",
        "#     - D2 (float): Second derivative result.\n",
        "#     - D3 (float): Third derivative result.\n",
        "#     \"\"\"\n",
        "#     t = np.arange(dm, len(f) - dm)\n",
        "#     # D1 (First Derivative)\n",
        "#     D1, d1 = 0, 0\n",
        "\n",
        "#     for n1 in range(1, dm + 1):\n",
        "#         for n2 in range(n1 + 1, dm + 1):\n",
        "#             d1 += 1\n",
        "#             D1 += -((\n",
        "#                 f[t - n2] * n1**3 - f[t + n2] * n1**3 - f[t - n1] * n2**3 + f[t + n1] * n2**3\n",
        "#             ) / (2 * dt * n1**3 * n2 - 2 * dt * n1 * n2**3))\n",
        "\n",
        "#     D1 /= d1\n",
        "\n",
        "#     # D2 (Second Derivative)\n",
        "#     D2, d2 = 0, 0\n",
        "#     for n1 in range(1, dm + 1):\n",
        "#         for n2 in range(n1 + 1, dm + 1):\n",
        "#             d2 += 1\n",
        "#             numerator = (f[t - n2] * n1**4 + f[t + n2] * n1**4 -\n",
        "#                          f[t - n1] * n2**4 - f[t + n1] * n2**4 -\n",
        "#                          2 * f[t] * (n1**4 - n2**4))\n",
        "#             denominator = (dt**2 * n2**2 * (n1**4 - n1**2 * n2**2))\n",
        "#             D2 += numerator / denominator\n",
        "#     D2 /= d2\n",
        "\n",
        "#     # D3 (Third Derivative)\n",
        "#     D3, d3 = 0, 0\n",
        "#     for n1 in range(1, dm + 1):\n",
        "#         for n2 in range(n1 + 1, dm + 1):\n",
        "#             for n3 in range(n2 + 1, dm + 1):\n",
        "#                 d3 += 1\n",
        "#                 numerator = (3 * (f[t - n3] * n1 * n2 * (n1**4 - n2**4) +\n",
        "#                                   f[t + n3] * (-n1**5 * n2 + n1 * n2**5) +\n",
        "#                                   n3 * ((f[t - n1] - f[t + n1]) * n2 * (n2**4 - n3**4) +\n",
        "#                                         f[t + n2] * (n1**5 - n1 * n3**4) +\n",
        "#                                         f[t - n2] * (-n1**5 + n1 * n3**4))))\n",
        "#                 denominator = (dt**3 * n1 * (n1**2 - n2**2) * n3 * (n1**2 - n3**2) * (n2**3 - n2 * n3**2))\n",
        "#                 D3 += numerator / denominator\n",
        "#     D3 /= d3\n",
        "#     return D1, D2, D3\n",
        "\n",
        "\n",
        "# def dCov_numerical(cx, h, dm=4):\n",
        "#     \"\"\"\n",
        "#     Compute various numerical differential covariance matrices using different finite difference methods.\n",
        "\n",
        "#     Parameters:\n",
        "#     - cx (numpy.ndarray): Time series data matrix (T x N).\n",
        "#     - h (float): Step size for numerical differentiation.\n",
        "#     - dm (int, optional): Maximum window size for custom derivative computation. Default is 4.\n",
        "\n",
        "#     Returns:\n",
        "#     - dCov1 (numpy.ndarray): Differential covariance using first difference method (N x N).\n",
        "#     - dCov2 (numpy.ndarray): Differential covariance using central difference method (N x N).\n",
        "#     - dCov5 (numpy.ndarray): Differential covariance using a higher-order difference method (N x N).\n",
        "#     - dCov_center (numpy.ndarray): Differential covariance using a custom centered method (N x N).\n",
        "#     \"\"\"\n",
        "#     T, N = cx.shape\n",
        "#     diff_methods = [\n",
        "#         (cx[1:, :] - cx[:-1, :]) / h,\n",
        "#         (0.5 * cx[2:, :] - 0.5 * cx[:-2, :]) / h,\n",
        "#         (-cx[4:, :] + 8 * cx[3:-1, :] - 8 * cx[1:-3, :] + cx[:-4, :]) / (12 * h)\n",
        "#     ]\n",
        "\n",
        "#     dCov_results = []\n",
        "#     for diff_cx in diff_methods:\n",
        "#         rowmean = np.mean(diff_cx, axis=0)\n",
        "#         diff_cx = np.vstack([rowmean] * (cx.shape[0] - diff_cx.shape[0]) + [diff_cx])\n",
        "#         dCov_results.append(np.cov(np.hstack((diff_cx, cx)).T)[0:N, N:N + N])\n",
        "#         # diff_cx = np.vstack([rowmean] * (len(diff_methods) - len(diff_cx) % len(diff_methods)) + [diff_cx])\n",
        "#         # dCov_results.append(np.cov(np.hstack((diff_cx, cx)).T)[0:N, N:N + N])\n",
        "\n",
        "#     # Custom centered differential covariance\n",
        "#     diff_cx = np.column_stack([derivative_123(cx[:, i], dm, h)[0] for i in range(N)])\n",
        "#     Csample = np.cov(np.hstack((diff_cx, cx[dm:T - dm, :])).T)\n",
        "#     dCov_center = Csample[:N, N:N + N]\n",
        "\n",
        "#     return *dCov_results, dCov_center\n",
        "\n",
        "\n",
        "# def prctile(x, p):\n",
        "#     \"\"\"\n",
        "#     Compute percentiles for an array using an adjusted scale to handle edge cases.\n",
        "\n",
        "#     Parameters:\n",
        "#     - x (numpy.ndarray): Input array of data.\n",
        "#     - p (float or array-like): Percentile(s) to compute.\n",
        "\n",
        "#     Returns:\n",
        "#     - (numpy.ndarray): Percentile value(s) of the input array.\n",
        "#     \"\"\"\n",
        "#     n = len(x)\n",
        "#     p = np.clip((p - 50) * n / (n - 1) + 50, 0, 100)\n",
        "#     return np.percentile(x, p)\n",
        "\n",
        "\n",
        "# def compute_ddc(ts, TR, d):\n",
        "#     \"\"\"\n",
        "#     Compute Dynamical Differential Covariance (DDC) and its regularized versions.\n",
        "\n",
        "#     Parameters:\n",
        "#     - ts (numpy.ndarray): Time series data (T x N).\n",
        "#     - TR (float): Time resolution of the data.\n",
        "#     - d (int or str): Type of differential covariance to use; 2 for `dCov2`, \"c\" for `dCov_center`.\n",
        "\n",
        "#     Returns:\n",
        "#     - Cov (numpy.ndarray): Covariance matrix of the time series (N x N).\n",
        "#     - DDC (numpy.ndarray): Dynamical Differential Covariance matrix (N x N).\n",
        "#     - Reg_DDC (numpy.ndarray): Regularized DDC matrix using ridge regression (N x N).\n",
        "#     - nl_DDC (numpy.ndarray): Non-linear DDC estimator (N x N).\n",
        "#     - qc_flag (int): Quality control flag indicating if the covariance matrix is rank deficient (0 = no issue, 1 = rank deficient).\n",
        "#     \"\"\"\n",
        "#     if np.max(ts[0, :]) == ts[0, -1] and np.min(ts[0, :]) == ts[0, 0]:\n",
        "#         ts = ts[1:, :]\n",
        "\n",
        "#     V_obs = zscore(ts, ddof=1)\n",
        "#     dCov1, dCov2, _, dCov_center = dCov_numerical(V_obs, TR)\n",
        "#     Cov, Precision, B, _ = estimators(V_obs, 0, TR)\n",
        "\n",
        "#     qc_flag = int(matrix_rank(Cov) < len(Cov))\n",
        "#     if qc_flag:\n",
        "#         print(\"Cov is rank deficient!\")\n",
        "\n",
        "#     if d == 2:\n",
        "#         C, dCov, DDC = dCov2, dCov2 @ Precision, dCov2 @ B\n",
        "#     elif d == \"c\":\n",
        "#         C, dCov, DDC = dCov_center, dCov_center @ Precision, dCov_center @ B\n",
        "#     else:\n",
        "#         return Cov, None, None, None, qc_flag\n",
        "\n",
        "#     # Regularize DDC using ridge regression\n",
        "#     Reg_DDC = np.array([Ridge(alpha=1e-2).fit(scale(Cov), C[n, :]).coef_ for n in range(len(C))])\n",
        "\n",
        "#     return Cov, DDC, Reg_DDC, dCov, qc_flag\n",
        "\n",
        "\n",
        "# def compute_fddc(ts, TR, d):\n",
        "#     \"\"\"\n",
        "#     Compute Fractional Dynamical Differential Covariance (FDDC) and its regularized version.\n",
        "\n",
        "#     Parameters:\n",
        "#     - ts (numpy.ndarray): Time series data (T x N).\n",
        "#     - TR (float): Time resolution of the data.\n",
        "#     - d (float): Fractional differentiation order.\n",
        "\n",
        "#     Returns:\n",
        "#     - FDDC (numpy.ndarray): Fractional Dynamical Differential Covariance matrix (N x N).\n",
        "#     - Reg_FDDC (numpy.ndarray): Regularized FDDC matrix using ridge regression (N x N).\n",
        "#     \"\"\"\n",
        "#     if np.max(ts[0, :]) == ts[0, -1] and np.min(ts[0, :]) == ts[0, 0]:\n",
        "#         ts = ts[1:, :]\n",
        "\n",
        "#     V_obs = zscore(ts, ddof=1)\n",
        "#     diff_cx = fdiff(V_obs, d, axis=0)\n",
        "#     dFrac = np.cov(np.hstack((diff_cx, ts)).T)[0:V_obs.shape[1], V_obs.shape[1]:]\n",
        "\n",
        "#     Cov, Precision, B, _ = estimators(V_obs, 0, TR)\n",
        "#     FDDC = dFrac @ Precision\n",
        "#     Reg_FDDC = np.array([Ridge(alpha=1e-2).fit(scale(Cov), FDDC[n, :]).coef_ for n in range(len(FDDC))])\n",
        "\n",
        "#     return FDDC, Reg_FDDC\n"
      ],
      "metadata": {
        "id": "3ifJ7g1ZrIH9"
      },
      "execution_count": null,
      "outputs": []
    },
    {
      "cell_type": "code",
      "source": [
        "### Recent optomized versions - needs a little work\n",
        "# import numpy as np\n",
        "\n",
        "# def derivative_123(f, dm, dt):\n",
        "#     \"\"\"\n",
        "#     Compute the first, second, and third derivatives of a function.\n",
        "#     Parameters:\n",
        "#     - f (numpy.ndarray): Array of function values.\n",
        "#     - dm (int): Parameter for the derivative calculation.\n",
        "#     - dt (float): Time step size.\n",
        "#     Returns:\n",
        "#     - D1 (numpy.ndarray): First derivative.\n",
        "#     - D2 (numpy.ndarray): Second derivative.\n",
        "#     - D3 (numpy.ndarray): Third derivative.\n",
        "#     \"\"\"\n",
        "#     t = np.arange(1 + dm, len(f) - dm)\n",
        "\n",
        "#     # Precompute some constant factors\n",
        "#     n1_range = np.arange(1, dm + 1)\n",
        "#     n2_range = np.arange(2, dm + 1)\n",
        "#     n3_range = np.arange(3, dm + 1)\n",
        "\n",
        "#     # Vectorized D1 (First Derivative)\n",
        "#     D1 = np.sum([(-((f[t - n2] * n1**3 - f[t + n2] * n1**3 -\n",
        "#                     f[t - n1] * n2**3 + f[t + n1] * n2**3)) /\n",
        "#                 (2 * dt * n1**3 * n2 - 2 * dt * n1 * n2**3))\n",
        "#                 for n1 in n1_range for n2 in range(n1 + 1, dm + 1)], axis=0)\n",
        "#     D1 /= (dm * (dm - 1) / 2)\n",
        "\n",
        "#     # Vectorized D2 (Second Derivative)\n",
        "#     D2 = np.sum([((f[t - n2] * n1**4 + f[t + n2] * n1**4 -\n",
        "#                   f[t - n1] * n2**4 - f[t + n1] * n2**4 -\n",
        "#                   2 * f[t] * (n1**4 - n2**4)) /\n",
        "#                 (dt**2 * n2**2 * (n1**4 - n1**2 * n2**2)))\n",
        "#                 for n1 in n1_range for n2 in range(n1 + 1, dm + 1)], axis=0)\n",
        "#     D2 /= (dm * (dm - 1) / 2)\n",
        "\n",
        "#     # Vectorized D3 (Third Derivative)\n",
        "#     D3 = np.sum([((3 * (f[t - n3] * n1 * n2 * (n1**4 - n2**4) +\n",
        "#                         f[t + n3] * (-n1**5 * n2 + n1 * n2**5) +\n",
        "#                         n3 * ((f[t - n1] - f[t + n1]) * n2 * (n2**4 - n3**4) +\n",
        "#                               f[t + n2] * (n1**5 - n1 * n3**4) +\n",
        "#                               f[t - n2] * (-n1**5 + n1 * n3**4)))) /\n",
        "#                 (dt**3 * n1 * (n1**2 - n2**2) * n3 * (n1**2 - n3**2) * (n2**3 - n2 * n3**2)))\n",
        "#                 for n1 in n1_range for n2 in range(n1 + 1, dm + 1) for n3 in range(n2 + 1, dm + 1)], axis=0)\n",
        "#     D3 /= (dm * (dm - 1) * (dm - 2) / 6)\n",
        "\n",
        "#     return D1, D2, D3\n",
        "\n",
        "\n",
        "# import numpy as np\n",
        "# from scipy.stats import zscore\n",
        "\n",
        "# def dCov_numerical(cx, h, dm=4):\n",
        "#     \"\"\"\n",
        "#     Compute linear dCov using numerical derivatives.\n",
        "\n",
        "#     Parameters:\n",
        "#     - cx (numpy.ndarray): T x N array of data.\n",
        "#     - h (float): Sampling interval.\n",
        "#     - dm (int): Averaging window parameter (default is 4 unless specified).\n",
        "\n",
        "#     Returns:\n",
        "#     - dCov1 (numpy.ndarray): Covariance for the first derivative.\n",
        "#     - dCov2 (numpy.ndarray): Covariance for the second derivative.\n",
        "#     - dCov5 (numpy.ndarray): Covariance for the five-point stencil approximation.\n",
        "#     - dCov_center (numpy.ndarray): Covariance for the centered derivative from Taylor expansion.\n",
        "#     NOTE:\n",
        "#         dCov = <dv/dt,v>\n",
        "#         covariance is computed through cov()\n",
        "#     \"\"\"\n",
        "#     T, N = cx.shape\n",
        "\n",
        "#     # Compute first-order derivative\n",
        "#     diff_cx1 = (cx[1:, :] - cx[:-1, :]) / h\n",
        "#     diff_cx1 = np.vstack((diff_cx1, np.mean(diff_cx1, axis=0)))\n",
        "#     Csample1 = np.cov(np.hstack((diff_cx1, cx)).T, rowvar=False)\n",
        "#     dCov1 = zscore(Csample1[:N, N:N + N])\n",
        "\n",
        "#     # Compute second-order derivative\n",
        "#     diff_cx2 = (cx[2:, :] - cx[:-2, :]) / (2 * h)\n",
        "#     diff_cx2 = np.vstack((diff_cx2, np.mean(diff_cx2, axis=0), diff_cx1[-1, :]))\n",
        "#     Csample2 = np.cov(np.hstack((diff_cx2, cx)).T, rowvar=False)\n",
        "#     dCov2 = zscore(Csample2[:N, N:N + N])\n",
        "\n",
        "#     # Compute five-point stencil derivative\n",
        "#     diff_cx5 = (-cx[4:, :] + 8 * cx[3:-1, :] - 8 * cx[1:-3, :] + cx[:-4, :]) / (12 * h)\n",
        "#     diff_cx5 = np.vstack((np.zeros((2, N)), diff_cx5, np.zeros((2, N))))\n",
        "#     Csample5 = np.cov(np.hstack((diff_cx5, cx)).T, rowvar=False)\n",
        "#     dCov5 = Csample5[:N, N:N + N]\n",
        "\n",
        "#     # Compute centered derivative using derivative_123\n",
        "#     diff_cx_center = np.zeros(((T - 2 * dm) - 1, N))\n",
        "#     for i in range(N):\n",
        "#         dx, _, _ = derivative_123(cx[:, i], dm, h)\n",
        "#         diff_cx_center[:, i] = dx\n",
        "#     cx_trunc = cx[1+dm:T - dm, :]\n",
        "#     Csample_center = np.cov(np.hstack((diff_cx_center, cx_trunc)).T, rowvar=False)\n",
        "#     dCov_center = Csample_center[:N, N:N + N]\n",
        "\n",
        "#     return dCov1, dCov2, dCov5, dCov_center\n",
        "\n",
        "\n",
        "# import numpy as np\n",
        "# from scipy.stats import zscore\n",
        "\n",
        "# def estimators(V, thres, TR):\n",
        "#     \"\"\"\n",
        "#     INPUT:\n",
        "#         V: time points x variables\n",
        "#         thres: ReLU offset\n",
        "#         TR: sampling interval (seconds)\n",
        "#     OUTPUT:\n",
        "#         Cov: Covariance of the observations\n",
        "#         precision: Precision matrix (inverse of Cov)\n",
        "#         B: ReLU(x), x covariance\n",
        "#         dCov: dx/dt, x covariance\n",
        "#     \"\"\"\n",
        "#     T, N = V.shape\n",
        "\n",
        "#     # Standardize V_obs\n",
        "#     V_obs = zscore(V, axis=0)\n",
        "\n",
        "#     # Compute Covariance and Precision matrix\n",
        "#     Cov = np.cov(V_obs, rowvar=False)\n",
        "#     precision = np.linalg.inv(Cov)\n",
        "\n",
        "#     # ReLU transformation and its covariance\n",
        "#     Fx = np.maximum(V_obs - thres, 0)\n",
        "#     B = np.cov(Fx, rowvar=False)\n",
        "\n",
        "#     # Compute derivative dV and its covariance with V_obs\n",
        "#     dV = np.diff(V_obs, axis=0) / TR\n",
        "#     # Prepend and append means instead of using vstack multiple times\n",
        "#     dV = np.vstack([np.mean(dV, axis=0), dV, np.mean(dV, axis=0)])\n",
        "#     dCov = np.cov(np.hstack([dV, V_obs]), rowvar=False)\n",
        "\n",
        "#     return Cov, precision, B, dCov\n",
        "\n",
        "# import numpy as np\n",
        "# from sklearn.linear_model import Ridge\n",
        "# from scipy.stats import zscore\n",
        "\n",
        "# def dCov_linear_Reg(V, TR, lambda_=0.01):\n",
        "#     \"\"\"\n",
        "#     L2 Regularized version of deltaL.\n",
        "\n",
        "#     Parameters:\n",
        "#     - V (numpy.ndarray): Time series data (T x N).\n",
        "#     - TR (float): Sampling interval.\n",
        "#     - lambda_ (float): Regularization strength.\n",
        "\n",
        "#     Returns:\n",
        "#     - Delta_L (numpy.ndarray): Linear DDC with ridge regularization.\n",
        "#     \"\"\"\n",
        "#     T, N = V.shape\n",
        "#     V_obs = zscore(V, axis=0)  # Standardize V\n",
        "\n",
        "#     # Calculate numerical derivatives and estimators\n",
        "#     dCov1, dCov2, _, dCov_center = dCov_numerical(V_obs, TR, dm=4)\n",
        "#     Cov, Precision, B, _ = estimators(V_obs, 0, TR)\n",
        "\n",
        "#     # Use the ridge regression formula: (B.T @ B + lambda_ * I)^-1 @ B.T @ C\n",
        "#     BtB = B.T @ B\n",
        "#     identity = np.eye(B.shape[1])\n",
        "#     BtB_reg = BtB + lambda_ * identity\n",
        "#     BtB_reg_inv = np.linalg.inv(BtB_reg)\n",
        "#     Delta_L = (BtB_reg_inv @ B.T @ dCov2.T).T\n",
        "\n",
        "#     return Delta_L\n",
        "\n",
        "\n",
        "# def dcov_relu(V, TR, lambda_=0.01):\n",
        "#     \"\"\"\n",
        "#     Delta_ReLU\n",
        "#     INPUT:\n",
        "#         V: time series\n",
        "#         TR: sampling interval\n",
        "#         lambda_: regularization strength\n",
        "#     OUTPUT:\n",
        "#         Delta_ReLU: nonlinear DDC with ReLU nonlinearity\n",
        "#     \"\"\"\n",
        "#     T, N = V.shape\n",
        "\n",
        "#     # Standardize V\n",
        "#     V_obs = zscore(V, axis=0)\n",
        "#     # V_obs = V\n",
        "\n",
        "#     # Calculate numerical derivatives and estimators\n",
        "#     _, dCov2, _, _ = dCov_numerical(V_obs, TR)\n",
        "\n",
        "#     # Apply ReLU non-linearity to the standardized observations\n",
        "#     V_relu = np.maximum(V_obs, 0)  # Applying ReLU\n",
        "\n",
        "#     # Re-compute the estimators using ReLU-transformed data\n",
        "#     Cov, _, B, _ = estimators(V_relu, 1, TR)\n",
        "\n",
        "#     # Ridge regression using the ReLU-transformed covariance matrix\n",
        "#     BtB = B.T @ B\n",
        "#     identity = np.eye(B.shape[1])\n",
        "#     BtB_reg = BtB + lambda_ * identity\n",
        "#     BtB_reg_inv = np.linalg.inv(BtB_reg)\n",
        "#     Delta_ReLU = np.flipud((BtB_reg_inv @ B.T @ dCov2.T).T)\n",
        "\n",
        "#     return Delta_ReLU\n",
        "\n",
        "\n",
        "\n"
      ],
      "metadata": {
        "id": "yAxWwDx4-LR6"
      },
      "execution_count": null,
      "outputs": []
    },
    {
      "cell_type": "code",
      "source": [
        "# def derivative_123(f, dm, dt):\n",
        "#     \"\"\"\n",
        "#     Compute the first, second, and third derivatives of a function.\n",
        "\n",
        "#     Parameters:\n",
        "#     - f (numpy.ndarray): Array of function values.\n",
        "#     - dm (int): Parameter for the derivative calculation.\n",
        "#     - dt (float): Time step size.\n",
        "\n",
        "#     Returns:\n",
        "#     - D1 (numpy.ndarray): First derivative.\n",
        "#     - D2 (numpy.ndarray): Second derivative.\n",
        "#     - D3 (numpy.ndarray): Third derivative.\n",
        "#     \"\"\"\n",
        "#     # Define the time index range\n",
        "#     t = np.arange(1 + dm, len(f) - dm)\n",
        "\n",
        "#     # Initialize derivatives\n",
        "#     D1 = np.zeros_like(t, dtype=np.float64)\n",
        "#     D2 = np.zeros_like(t, dtype=np.float64)\n",
        "#     D3 = np.zeros_like(t, dtype=np.float64)\n",
        "\n",
        "#     # Compute D1\n",
        "#     d = 0\n",
        "#     for n1 in range(1, dm + 1):\n",
        "#         for n2 in range(n1 + 1, dm + 1):\n",
        "#             d += 1\n",
        "#             numerator = -((f[t - n2] * n1**3 - f[t + n2] * n1**3 -\n",
        "#                             f[t - n1] * n2**3 + f[t + n1] * n2**3))\n",
        "#             denominator = (2 * dt * n1**3 * n2 - 2 * dt * n1 * n2**3)\n",
        "#             D1 += numerator / denominator\n",
        "#     D1 /= d\n",
        "\n",
        "#     # Compute D2\n",
        "#     d = 0\n",
        "#     for n1 in range(1, dm + 1):\n",
        "#         for n2 in range(n1 + 1, dm + 1):\n",
        "#             d += 1\n",
        "#             numerator = (f[t - n2] * n1**4 + f[t + n2] * n1**4 -\n",
        "#                          f[t - n1] * n2**4 - f[t + n1] * n2**4 -\n",
        "#                          2 * f[t] * (n1**4 - n2**4))\n",
        "#             denominator = (dt**2 * n2**2 * (n1**4 - n1**2 * n2**2))\n",
        "#             D2 += numerator / denominator\n",
        "#     D2 /= d\n",
        "\n",
        "#     # Compute D3\n",
        "#     d = 0\n",
        "#     for n1 in range(1, dm + 1):\n",
        "#         for n2 in range(n1 + 1, dm + 1):\n",
        "#             for n3 in range(n2 + 1, dm + 1):\n",
        "#                 d += 1\n",
        "#                 numerator = (3 * (f[t - n3] * n1 * n2 * (n1**4 - n2**4) +\n",
        "#                                   f[t + n3] * (-n1**5 * n2 + n1 * n2**5) +\n",
        "#                                   n3 * ((f[t - n1] - f[t + n1]) * n2 * (n2**4 - n3**4) +\n",
        "#                                         f[t + n2] * (n1**5 - n1 * n3**4) +\n",
        "#                                         f[t - n2] * (-n1**5 + n1 * n3**4))))\n",
        "#                 denominator = (dt**3 * n1 * (n1**2 - n2**2) * n3 * (n1**2 - n3**2) * (n2**3 - n2 * n3**2))\n",
        "#                 D3 += numerator / denominator\n",
        "#     D3 /= d\n",
        "\n",
        "#     return D1, D2, D3\n",
        "\n",
        "\n",
        "# def dCov_numerical(cx, h, dm=4):\n",
        "#     \"\"\"\n",
        "#     Compute linear dCov using numerical derivatives.\n",
        "\n",
        "#     Parameters:\n",
        "#     - cx (numpy.ndarray): T x N array of data.\n",
        "#     - h (float): Sampling interval.\n",
        "#     - dm (int): Averaging window parameter.\n",
        "\n",
        "#     Returns:\n",
        "#     - dCov1 (numpy.ndarray): Covariance for the first derivative.\n",
        "#     - dCov2 (numpy.ndarray): Covariance for the second derivative.\n",
        "#     - dCov5 (numpy.ndarray): Covariance for the five-point stencil approximation.\n",
        "#     - dCov_center (numpy.ndarray): Covariance for the centered derivative from Taylor expansion.\n",
        "#     \"\"\"\n",
        "#     T, N = cx.shape\n",
        "\n",
        "#     # Compute first-order derivative\n",
        "#     diff_cx = (cx[1:] - cx[:-1]) / h\n",
        "#     diff_cx = np.vstack([diff_cx, np.mean(diff_cx, axis=0)])\n",
        "#     Csample = np.cov(np.hstack([diff_cx, cx]).T)\n",
        "#     dCov1 = Csample[:N, N:]\n",
        "\n",
        "#     # Compute second-order derivative\n",
        "#     diff_cx = (0.5 * cx[2:] - 0.5 * cx[:-2]) / h\n",
        "#     diff_cx = np.vstack([np.mean(diff_cx, axis=0), diff_cx, np.mean(diff_cx, axis=0)])\n",
        "#     Csample = np.cov(np.hstack([diff_cx, cx]).T)\n",
        "#     dCov2 = Csample[:N, N:]\n",
        "\n",
        "#     # Compute five-point stencil derivative\n",
        "#     diff_cx = (-cx[4:] + 8 * cx[3:-1] - 8 * cx[1:-3] + cx[:-4]) / (12 * h)\n",
        "#     diff_cx = np.vstack([np.mean(diff_cx, axis=0)] * 2 + [diff_cx] + [np.mean(diff_cx, axis=0)] * 2)\n",
        "#     Csample = np.cov(np.hstack([diff_cx, cx]).T)\n",
        "#     dCov5 = Csample[:N, N:]\n",
        "\n",
        "#     # Compute centered derivative using derivative_123\n",
        "#     diff_cx = []\n",
        "#     for i in range(N):\n",
        "#         dx, _, _ = derivative_123(cx[:, i], dm, h)\n",
        "#         diff_cx.append(dx)\n",
        "#     diff_cx = np.array(diff_cx).T\n",
        "#     cx_trunc = cx[dm:-dm]\n",
        "#     Csample = np.cov(np.hstack([diff_cx, cx_trunc]).T)\n",
        "#     dCov_center = Csample[:N, N:]\n",
        "\n",
        "#     return dCov1, dCov2, dCov5, dCov_center\n",
        "\n",
        "\n",
        "# def estimators(V_obs, thres, TR):\n",
        "#     \"\"\"\n",
        "#     Compute various estimators from the observed data.\n",
        "\n",
        "#     Parameters:\n",
        "#     - V_obs (numpy.ndarray): Time points x variables array.\n",
        "#     - thres (float): ReLU offset.\n",
        "#     - TR (float): Sampling interval in seconds.\n",
        "\n",
        "#     Returns:\n",
        "#     - Cov (numpy.ndarray): Covariance matrix of V_obs.\n",
        "#     - precision (numpy.ndarray): Precision matrix (inverse of Cov).\n",
        "#     - B (numpy.ndarray): Covariance of ReLU-transformed V_obs with V_obs.\n",
        "#     - dCov (numpy.ndarray): Covariance of the first derivative with V_obs.\n",
        "#     \"\"\"\n",
        "#     # Number of time points (T) and variables (N)\n",
        "#     T, N = V_obs.shape\n",
        "\n",
        "#     # Compute covariance and precision matrix\n",
        "#     Cov = np.cov(V_obs, rowvar=False)\n",
        "#     precision = np.linalg.inv(Cov)\n",
        "\n",
        "#     # Compute ReLU transformation\n",
        "#     Fx = np.maximum(V_obs - thres, 0)\n",
        "\n",
        "#     # Compute B: <ReLU(x), x>\n",
        "#     tmp = np.cov(np.hstack([Fx, V_obs]), rowvar=False)\n",
        "#     B = tmp[:N, N:]\n",
        "\n",
        "#     # Compute the first derivative\n",
        "#     dV = (-0.5 * V_obs[:-2, :] + 0.5 * V_obs[2:, :]) / TR\n",
        "#     dV = np.vstack([np.mean(dV, axis=0), dV, np.mean(dV, axis=0)])\n",
        "\n",
        "#     # Compute dCov: <dx/dt, x>\n",
        "#     tmp = np.cov(np.hstack([dV, V_obs]), rowvar=False)\n",
        "#     dCov = tmp[:N, N:]\n",
        "\n",
        "#     return Cov, precision, B, dCov\n",
        "\n",
        "# def dCov_linear_Reg(V, TR, lambda_=0.01):\n",
        "#     \"\"\"\n",
        "#     L2 Regularized version of deltaL.\n",
        "\n",
        "#     Parameters:\n",
        "#     - V (numpy.ndarray): Time series data (T x N).\n",
        "#     - TR (float): Sampling interval.\n",
        "#     - lambda_ (float): Regularization strength.\n",
        "\n",
        "#     Returns:\n",
        "#     - A_reg (numpy.ndarray): Linear DDC with ridge regularization.\n",
        "#     \"\"\"\n",
        "#     T, N = V.shape\n",
        "#     V_obs = zscore(V, axis=0)  # Standardize V\n",
        "#     dCov1, dCov2, _, dCov_center = dCov_numerical(V_obs, TR, dm=4)\n",
        "#     Cov, Precision, B, _ = estimators(V_obs, 0, TR)\n",
        "\n",
        "#     C = dCov2\n",
        "#     B = Cov\n",
        "\n",
        "#     A_reg = np.zeros_like(C)\n",
        "\n",
        "#     # Perform ridge regression for each row of C\n",
        "#     ridge_reg = Ridge(alpha=lambda_)\n",
        "#     for i in range(C.shape[0]):\n",
        "#         ci = C[i, :]\n",
        "#         ridge_reg.fit(B, ci)\n",
        "#         A_reg[i, :] = ridge_reg.coef_\n",
        "\n",
        "#     return A_reg\n",
        "\n",
        "\n",
        "\n",
        "# def dcov_relu(V, TR, lamda=0.01):\n",
        "#   \"\"\"\n",
        "#   Delta_L and Delta_ReLU\n",
        "#   INPUT:\n",
        "#       V: time series\n",
        "#       TR: sampling interval\n",
        "#       lambda: regularization strength\n",
        "#   OUTPUT:\n",
        "#       Delta_L: linear DDC\n",
        "#       Delta_ReLU: nonlinear DDC with ReLU nonlinearity\n",
        "#   \"\"\"\n",
        "#   T, N = V.shape\n",
        "#   V = np.array(V)\n",
        "#   V_obs = (V - np.mean(V, axis=0)) / np.std(V, axis=0)\n",
        "#   dCov1, dCov2, dCov5, dCov_center = dCov_numerical(V_obs, TR)\n",
        "#   Cov, Precision, B,dCov = estimators(V_obs, 1, TR)\n",
        "#   Delta_L = np.matmul(dCov2,(Precision**-1))\n",
        "#   # Delta_ReLU = -(dCov2*(B**-1))\n",
        "#   Delta_ReLU = -(np.matmul(dCov2,(B**-1)))  ## matmul should be the correct way\n",
        "#   return Delta_L, Delta_ReLU\n",
        "\n",
        "\n"
      ],
      "metadata": {
        "id": "lBkvYKFN-MCU"
      },
      "execution_count": null,
      "outputs": []
    },
    {
      "cell_type": "markdown",
      "source": [
        "## code estimating grouond truth and running nonlinear simulation\n"
      ],
      "metadata": {
        "id": "fR4HuAVNgLa3"
      }
    },
    {
      "cell_type": "code",
      "source": [
        "# Example usage:\n",
        "# G = np.array([[1, 0.5, 0.7], [0, 0, 0], [0, 0, 0]])  # Connectivity pattern matrix\n",
        "# G = np.array([[1, 0.15, 0.35], [0.75, 1, 0.15], [-0.05, -0.25, 1]])  # Connectivity pattern matrix\n",
        "# G = np.array([[-1, 0.5, 0.5], [0.5, -1, 0.5], [0.5, 0.5, -1]])  # Connectivity pattern matrix\n",
        "# G = np.array([[0, 0, 0], [-0.5, 0, 0], [-0.5, 0, 0]])  # Connectivity pattern matrix\n",
        "\n",
        "# G=-1*np.eye(3)\n",
        "# G[1,0] = -0.5\n",
        "# G[2,0] = -0.5\n",
        "\n",
        "# deltaT = 0.8\n",
        "# RandInput = 0.01\n",
        "# options = {'nonlinearity': 'relu', 'parameter': 1, 'Ttotal': 1000}\n",
        "\n",
        "# V_pre = Nonlinear_simulation(G, deltaT, RandInput, options)"
      ],
      "metadata": {
        "id": "xbj4QhC6RDo6"
      },
      "execution_count": null,
      "outputs": []
    },
    {
      "cell_type": "markdown",
      "source": [
        "## Linear timeseries simulation function"
      ],
      "metadata": {
        "id": "26FZJXVSiX-g"
      }
    },
    {
      "cell_type": "code",
      "source": [
        "# import numpy as np\n",
        "\n",
        "# def Linear_simulation(G, deltaT, RandInput, options):\n",
        "#     ''' Define linear simulation\n",
        "#         dx/dt = G*x + u\n",
        "#         INPUT:\n",
        "#           G: connectivity pattern, G(i,j): connections from j to i\n",
        "#           deltaT: integration step\n",
        "#           RandInput: magnitude of noisy input\n",
        "#         OUTPUT:\n",
        "#           V_pre: time points x variables\n",
        "#     '''\n",
        "#     N = G.shape[0]\n",
        "#     T = int(options['Ttotal'] / deltaT)  # Total simulation time\n",
        "#     V_pre = np.zeros((T, N))\n",
        "#     I = np.zeros((T, N))\n",
        "\n",
        "#     for t in range(1, T):\n",
        "#         u = np.random.randn(N) * RandInput\n",
        "#         I[t, :] = np.dot(G, V_pre[t - 1, :])\n",
        "#         V_pre[t, :] = V_pre[t - 1, :] + (I[t, :] + u) * deltaT\n",
        "\n",
        "#         if np.any(V_pre[t, :] > 10000):\n",
        "#             print('Simulation exploded')\n",
        "#             break\n",
        "\n",
        "#         if np.mod(t, (T // 10)) == 0:\n",
        "#             print(f'Simulation iteration: {t / T:.1%}')\n",
        "\n",
        "#     return V_pre"
      ],
      "metadata": {
        "id": "gFPvJNbl7pbS"
      },
      "execution_count": null,
      "outputs": []
    },
    {
      "cell_type": "code",
      "source": [
        "# # Example usage:\n",
        "# # G = np.array([[1, 0.5, 0.5], [0.5, 1, 0.5], [0.5, 0.5, 1]])  # Connectivity pattern matrix\n",
        "# G = np.array([[0, 0, 0], [-0.5, 0, 0], [-0.5, 0, 0]])\n",
        "# deltaT = 0.8\n",
        "# RandInput = 0.1\n",
        "# # options = {'Ttotal': 1000}\n",
        "\n",
        "# V_pre_l = Linear_simulation(G, deltaT, RandInput, options)"
      ],
      "metadata": {
        "id": "p4APg0wD7pd5"
      },
      "execution_count": null,
      "outputs": []
    },
    {
      "cell_type": "code",
      "source": [
        "V_pre_l"
      ],
      "metadata": {
        "id": "_xzkRPWi7pgJ"
      },
      "execution_count": null,
      "outputs": []
    },
    {
      "cell_type": "code",
      "source": [
        "\n",
        "# def Nonlinear_simulation(G, deltaT, RandInput, options):\n",
        "#     ''' Define nonlinearity function based on options\n",
        "#     \tBy default, simulate 1000 seconds\n",
        "#         dx/dt = G*F(x) + u\n",
        "#         INPUT:\n",
        "#           G: connectivity pattern, G(i,j): connections from j to i\n",
        "#           deltaT: integration step\n",
        "#           RandInput: magnitude of noisy input\n",
        "#           options.nonlinearity: relu or sigmoid or sigmoid_sym\n",
        "#           options.parameter: parameter controlling relu offset or sigmoid slope\n",
        "#         OUTPUT:\n",
        "#           V_pre: time points x variables\n",
        "\n",
        "#     '''\n",
        "#     if options['nonlinearity'] == 'relu':\n",
        "#         print('ReLu nonlinearity')\n",
        "#         F = relu\n",
        "#     elif options['nonlinearity'] == 'sigmoid':\n",
        "#         print('Sigmoid nonlinearity')\n",
        "#         F = sigmoid\n",
        "#     elif options['nonlinearity'] == 'sigmoid_sym':\n",
        "#         print('Symmetric Sigmoid nonlinearity')\n",
        "#         F = sigmoid_sym\n",
        "\n",
        "#     N = G.shape[0]\n",
        "#     T = int(options['Ttotal'] / deltaT)  # Total simulation time\n",
        "#     V_pre = np.zeros((T, N))\n",
        "#     I = np.zeros((T, N))\n",
        "\n",
        "#     for t in range(1, T):\n",
        "#         u = np.random.randn(N) * RandInput\n",
        "#         I[t, :] = np.dot(G, F(V_pre[t - 1, :]).conj().T).conj().T\n",
        "#         V_pre[t, :] = V_pre[t - 1, :] + (I[t, :] + u) * deltaT\n",
        "\n",
        "#         if np.any(V_pre[t, :] > 10000):\n",
        "#             print('Simulation exploded')\n",
        "#             break\n",
        "\n",
        "#         if np.mod(t, (T // 10)) == 0:\n",
        "#             print(f'Simulation iteration: {t / T:.1%}')\n",
        "\n",
        "#     return V_pre\n",
        "\n",
        "# def relu(x):\n",
        "#     return np.maximum(x - options['parameter'], 0)\n",
        "\n",
        "# def sigmoid(x):\n",
        "#     return 1 / (1 + np.exp(-options['parameter'] * x))\n",
        "\n",
        "# def sigmoid_sym(x):\n",
        "#     return 1 / (1 + np.exp(-options['parameter'] * x)) - 0.5\n",
        "\n",
        "\n",
        "# # Example usage:\n",
        "# G = np.array([[1, 0.5, 0.5], [0.5, 1, 0.5], [0.5, 0.5, 1]])  # Connectivity pattern matrix\n",
        "# deltaT = 0.8\n",
        "# RandInput = 0.04\n",
        "# options = {'nonlinearity': 'relu', 'parameter': 1, 'Ttotal': 1000}\n",
        "\n",
        "# V_pre = Nonlinear_simulation(G, deltaT, RandInput, options)\n"
      ],
      "metadata": {
        "id": "BpElipTJ-9Fu"
      },
      "execution_count": null,
      "outputs": []
    },
    {
      "cell_type": "code",
      "source": [
        "# import numpy as np\n",
        "\n",
        "\n",
        "# def ReLU_effective_connectivity(V_obs, thres, TR, dm=4):\n",
        "#     \"\"\"\n",
        "#     INPUT:\n",
        "#         V_obs: time points x variables\n",
        "#         thres: Relu offset\n",
        "#         TR: sampling interval (seconds)\n",
        "#         dm: averaging window: parameter related to dCov_center\n",
        "#     OUTPUT:\n",
        "#         B: ReLu(x),x\n",
        "#         dCov: dx/dt,x\n",
        "#     \"\"\"\n",
        "\n",
        "#     def derivative_123(f, dm, dt):\n",
        "#         t = np.arange(1 + dm, len(f) - dm)\n",
        "#         f = np.array(f)\n",
        "\n",
        "#         # D1 (First Derivative)\n",
        "#         D1 = 0\n",
        "#         d = 0\n",
        "#         for n1 in range(1, dm + 1):\n",
        "#             for n2 in range(n1 + 1, dm + 1):\n",
        "#                 d += 1\n",
        "#                 D1 += (-((f[t - n2] * n1**3 - f[t + n2] * n1**3 - f[t - n1] * n2**3 + f[t + n1] * n2**3) /\n",
        "#                          (2 * dt * n1**3 * n2 - 2 * dt * n1 * n2**3)))\n",
        "#         D1 /= d\n",
        "\n",
        "#         # D2 (Second Derivative)\n",
        "#         D2 = 0\n",
        "#         d = 0\n",
        "#         for n1 in range(1, dm + 1):\n",
        "#             for n2 in range(n1 + 1, dm + 1):\n",
        "#                 d += 1\n",
        "#                 D2 += ((f[t - n2] * n1**4 + f[t + n2] * n1**4 - f[t - n1] * n2**4 - f[t + n1] * n2**4 - 2 * f[t] * (n1**4 - n2**4)) /\n",
        "#                        (dt**2 * n2**2 * (n1**4 - n1**2 * n2**2)))\n",
        "#         D2 /= d\n",
        "\n",
        "#         # D3 (Third Derivative)\n",
        "#         D3 = 0\n",
        "#         d = 0\n",
        "#         for n1 in range(1, dm + 1):\n",
        "#             for n2 in range(n1 + 1, dm + 1):\n",
        "#                 for n3 in range(n2 + 1, dm + 1):\n",
        "#                     d += 1\n",
        "#                     D3 += ((3 * (f[t - n3] * n1 * n2 * (n1**4 - n2**4) +\n",
        "#                                  f[t + n3] * (-(n1**5 * n2) + n1 * n2**5) +\n",
        "#                                  n3 * ((f[t - n1] - f[t + n1]) * n2 * (n2**4 - n3**4) +\n",
        "#                                        f[t + n2] * (n1**5 - n1 * n3**4) +\n",
        "#                                        f[t - n2] * (-n1**5 + n1 * n3**4)))) /\n",
        "#                            (dt**3 * n1 * (n1**2 - n2**2) * n3 * (n1**2 - n3**2) * (n2**3 - n2 * n3**2)))\n",
        "#         D3 /= d\n",
        "\n",
        "#         return D1, D2, D3\n",
        "\n",
        "#     def dCov_numerical(cx, h):\n",
        "#         T, N = cx.shape\n",
        "#         cx = np.array(cx)\n",
        "#         diff_cx = np.vstack(((cx[1:, :] - cx[:-1, :]) / h, np.mean(cx[1:, :] - cx[:-1, :], axis=0)))\n",
        "#         Csample = np.cov(np.hstack((diff_cx, cx)), rowvar=False)\n",
        "#         dCov1 = Csample[:N, N:N + N]\n",
        "\n",
        "#         diff_cx = np.vstack(((1/2 * cx[2:, :] - 1/2 * cx[:-2, :]) / h, np.mean(1/2 * cx[2:, :] - 1/2 * cx[:-2, :], axis=0),\n",
        "#                             diff_cx[-1, :]))\n",
        "#         Csample = np.cov(np.hstack((diff_cx, cx)), rowvar=False)\n",
        "#         dCov2 = Csample[:N, N:N + N]\n",
        "#         diff_cx = np.zeros((T, N))\n",
        "#         for i in range(2, T - 2):\n",
        "#             for j in range(2, N - 2):\n",
        "#                 diff_cx[i, j] = (\n",
        "#                     -cx[i + 2, j] + 8 * cx[i + 1, j]\n",
        "#                     - 8 * cx[i - 1, j] + cx[i - 2, j]\n",
        "#                 ) / 12.0\n",
        "#         Csample = np.cov(np.hstack((diff_cx, cx)), rowvar=False)\n",
        "#         dCov5 = Csample[:N, N:N + N]\n",
        "\n",
        "#         diff_cx = np.zeros(((T - 2 * dm)-1, N))\n",
        "#         for i in range(N):\n",
        "#             dx, _, _ = derivative_123(cx[:, i], dm, h)\n",
        "#             diff_cx[:, i] = dx\n",
        "\n",
        "#         cx_trunc = cx[1+dm:T - dm, :]\n",
        "#         Csample = np.cov(np.hstack((diff_cx, cx_trunc)), rowvar=False)\n",
        "#         dCov_center = Csample[:N, N:N + N]\n",
        "\n",
        "#         return dCov1, dCov2, dCov5, dCov_center\n",
        "\n",
        "#     T, N = V_obs.shape\n",
        "#     Cov, precision, _, dCov = estimators(V_obs, thres, TR)\n",
        "\n",
        "#     h = TR\n",
        "#     _, _, _, dCov_center = dCov_numerical(V_obs, h)\n",
        "\n",
        "#     return precision @ dCov_center, dCov\n"
      ],
      "metadata": {
        "id": "N26XrdkLsG7W"
      },
      "execution_count": null,
      "outputs": []
    },
    {
      "cell_type": "code",
      "source": [
        "G"
      ],
      "metadata": {
        "id": "unbJvIEasPoE"
      },
      "execution_count": null,
      "outputs": []
    },
    {
      "cell_type": "code",
      "source": [
        "# ReLU_effective_connectivity(V_pre, 0, 0.8)"
      ],
      "metadata": {
        "id": "ssPM3IqIsG9d"
      },
      "execution_count": null,
      "outputs": []
    },
    {
      "cell_type": "code",
      "source": [],
      "metadata": {
        "id": "sytpmhLesHAi"
      },
      "execution_count": null,
      "outputs": []
    },
    {
      "cell_type": "code",
      "source": [
        "# import random\n",
        "# random.random()"
      ],
      "metadata": {
        "id": "l6ujWUdQ_u7o"
      },
      "execution_count": null,
      "outputs": []
    },
    {
      "cell_type": "code",
      "source": [
        "# def nonlinear_simulation(G, deltaT, RandInput, Alpha, Ttotal):\n",
        "#     T = int(Ttotal / deltaT)\n",
        "#     N = G.shape[0]\n",
        "#     V_pre = np.zeros((T, N))\n",
        "#     for t in range(1, T):\n",
        "#         V_pre[t] = V_pre[t-1] + deltaT * (np.dot(G, V_pre[t-1]) + RandInput * np.tanh(Alpha * V_pre[t-1]))\n",
        "#     return V_pre"
      ],
      "metadata": {
        "id": "XJyO_vdG_u9w"
      },
      "execution_count": null,
      "outputs": []
    },
    {
      "cell_type": "code",
      "source": [
        "# def linear_simulation(G, deltaT, RandInput, Ttotal):\n",
        "#     T = int(Ttotal / deltaT)\n",
        "#     N = G.shape[0]\n",
        "#     u = np.zeros((T, N))\n",
        "#     u[T//4:T//4*3, 0] = 1\n",
        "#     V_pre_l = np.zeros((T, N))\n",
        "#     for t in range(1, T):\n",
        "#         V_pre_l[t] = V_pre_l[t-1] + deltaT * (np.dot(G, V_pre_l[t-1]) + RandInput * u[t-1])\n",
        "#     return V_pre_l"
      ],
      "metadata": {
        "id": "AXjIzcxv_vAW"
      },
      "execution_count": null,
      "outputs": []
    },
    {
      "cell_type": "code",
      "source": [
        "# import numpy as np\n",
        "# import os\n",
        "# from multiprocessing import Pool\n",
        "\n",
        "# # Function to perform linear simulation\n",
        "# def linear_simulation(G, deltaT, RandInput, Ttotal):\n",
        "#     T = int(Ttotal / deltaT)\n",
        "#     N = G.shape[0]\n",
        "#     u = np.zeros((T, N))\n",
        "#     u[T//4:T//4*3, 0] = 1\n",
        "#     V_pre_l = np.zeros((T, N))\n",
        "#     for t in range(1, T):\n",
        "#         V_pre_l[t] = V_pre_l[t-1] + deltaT * (np.dot(G, V_pre_l[t-1]) + RandInput * u[t-1])\n",
        "#     return V_pre_l\n",
        "\n",
        "# # Function to perform nonlinear simulation\n",
        "# def nonlinear_simulation(G, deltaT, RandInput, Alpha, Ttotal):\n",
        "#     T = int(Ttotal / deltaT)\n",
        "#     N = G.shape[0]\n",
        "#     V_pre = np.zeros((T, N))\n",
        "#     for t in range(1, T):\n",
        "#         V_pre[t] = V_pre[t-1] + deltaT * (np.dot(G, V_pre[t-1]) + RandInput * np.tanh(Alpha * V_pre[t-1]))\n",
        "#     return V_pre\n",
        "\n",
        "# # Simulation parameters\n",
        "# deltaT_linear = 0.01\n",
        "# TR = deltaT_linear\n",
        "# Ttotal_linear = 1000\n",
        "# NTrial = 50\n",
        "# RandInput_list = [0.01, 0.1, 1, 10, 20, 30, 40, 50, 60, 70, 80, 90, 100]\n",
        "# S_list = [-0.1, -0.2, -0.5, -0.8]\n",
        "\n",
        "# # Simulation directory\n",
        "# # savedir = '/nadata/cnl/data/yuchen/dCov_nonlinear/3neuron/forced/'\n",
        "\n",
        "# # Linear simulation\n",
        "# def linear_simulation_wrapper(Input_idx):\n",
        "#     V_pre_l_list = []\n",
        "#     for S_idx in range(len(S_list)):\n",
        "#         V_pre_l_multi = np.zeros((int(1000 / deltaT_linear), 3, NTrial))\n",
        "#         for Trial in range(NTrial):\n",
        "#             S = S_list[S_idx]\n",
        "#             RandInput = RandInput_list[Input_idx]\n",
        "#             G_confounder = -np.eye(3)\n",
        "#             G_confounder[1:, 0] = S\n",
        "#             G_chain = -np.eye(3)\n",
        "#             G_chain[1, 0] = S\n",
        "#             G_chain[2, 1] = S\n",
        "#             G = G_confounder\n",
        "#             # G = G_chain\n",
        "#             V_pre_l = linear_simulation(G, deltaT_linear, RandInput, Ttotal_linear)\n",
        "#             V_pre_l_multi[:, :, Trial] = V_pre_l\n",
        "#         V_pre_l_list.append(V_pre_l_multi)\n",
        "#     # np.save(os.path.join(savedir, f'LinearSimulation_{Input_idx}.npy'), V_pre_l_list)\n",
        "\n",
        "# with Pool() as p:\n",
        "#     p.map(linear_simulation_wrapper, range(len(RandInput_list)))\n",
        "\n",
        "# # Nonlinear simulation\n",
        "# deltaT_nonlinear = 0.0001\n",
        "# Alpha_list = [1, 5, 10, 15, 50]\n",
        "\n",
        "# def nonlinear_simulation_wrapper(Input_idx):\n",
        "#     V_pre_list = []\n",
        "#     for Alpha_idx in range(len(Alpha_list)):\n",
        "#         V_pre_multi = np.zeros((int(1000 / TR), 3, NTrial))\n",
        "#         for Trial in range(NTrial):\n",
        "#             Alpha = Alpha_list[Alpha_idx]\n",
        "#             RandInput = RandInput_list[Input_idx]\n",
        "#             G_confounder = -np.eye(3)\n",
        "#             G_confounder[1:, 0] = S_list[0]\n",
        "#             G_chain = -np.eye(3)\n",
        "#             G_chain[1, 0] = S_list[0]\n",
        "#             G_chain[2, 1] = S_list[0]\n",
        "#             # G = G_confounder\n",
        "#             G = G_chain\n",
        "#             V_pre = nonlinear_simulation(G, deltaT_nonlinear, RandInput, Alpha, Ttotal_linear)\n",
        "#             V = V_pre[::int(TR/deltaT_nonlinear), :]\n",
        "#             V_pre_multi[:, :, Trial] = V\n",
        "#         V_pre_list.append(V_pre_multi)\n",
        "#     # np.save(os.path.join(savedir, f'NonlinearSimulation_{Input_idx}.npy'), V_pre_list)\n",
        "\n",
        "# with Pool() as p:\n",
        "#     p.map(nonlinear_simulation_wrapper, range(len(RandInput_list)))\n"
      ],
      "metadata": {
        "id": "RfMGj1-a_vCS"
      },
      "execution_count": null,
      "outputs": []
    },
    {
      "cell_type": "code",
      "source": [
        "  # Delta_L = np.matmul(dCov2,(Precision**-1))\n",
        "  # # Delta_ReLU = -(dCov2*(B**-1))\n",
        "  # Delta_ReLU = -(np.matmul(dCov2,(B**-1)))  ## matmul should be the correct way\n",
        "  # return Delta_L, Delta_ReLU\n",
        "\n",
        "# def dcov_relu(V, TR, lamda=0.01):\n",
        "#   \"\"\"\n",
        "#   Delta_L and Delta_ReLU\n",
        "#   INPUT:\n",
        "#       V: time series\n",
        "#       TR: sampling interval\n",
        "#       lambda: regularization strength\n",
        "#   OUTPUT:\n",
        "#       Delta_L: linear DDC\n",
        "#       Delta_ReLU: nonlinear DDC with ReLU nonlinearity\n",
        "#   \"\"\"\n",
        "#   T, N = V.shape\n",
        "#   V = np.array(V)\n",
        "#   # standardizing V\n",
        "#   V_obs = zscore(V, axis=0)\n",
        "#   # V_obs = (V - np.mean(V, axis=0)) / np.std(V, axis=0)\n",
        "#   dCov1, dCov2, dCov5, dCov_center = dCov_numerical(V_obs, TR)\n",
        "#   Cov, Precision, B,dCov = estimators(V_obs, 1, TR)\n",
        "#   Delta_L = np.matmul(dCov2,(Precision**-1))\n",
        "#   # Delta_ReLU = -(dCov2*(B**-1))\n",
        "#   Delta_ReLU = -(np.matmul(dCov2,(B**-1)))  ## matmul should be the correct way\n",
        "#   return Delta_L, Delta_ReLU\n",
        "\n",
        "\n",
        "# def dcov_relu(V, TR, lamda=0.01):\n",
        "#   \"\"\"\n",
        "#   Delta_L and Delta_ReLU\n",
        "#   INPUT:\n",
        "#       V: time series\n",
        "#       TR: sampling interval\n",
        "#       lambda: regularization strength\n",
        "#   OUTPUT:\n",
        "#       Delta_L: linear DDC\n",
        "#       Delta_ReLU: nonlinear DDC with ReLU nonlinearity\n",
        "#   \"\"\"\n",
        "#   T, N = V.shape\n",
        "#   V = np.array(V)\n",
        "#   V_obs = (V - np.mean(V, axis=0)) / np.std(V, axis=0)\n",
        "#   dCov1, dCov2, _, dCov_center = dCov_numerical(V_obs, TR)\n",
        "#   Cov, Precision, B, _ = estimators(V_obs, 0, TR)\n",
        "#   Delta_L = dCov2*(Precision**-1)\n",
        "\n",
        "#   C = dCov2\n",
        "#   A_reg = np.zeros_like(C)\n",
        "\n",
        "#   for i in range(C.shape[0]):\n",
        "#       ci = C[i, :]\n",
        "#       np.nan_to_num(ci)\n",
        "#       ridge_reg = Ridge(alpha=lamda)\n",
        "#       # B=np.nan_to_num(B) #*\n",
        "#       # ci=np.nan_to_num(ci) #*\n",
        "#       ridge_reg.fit(B, ci)\n",
        "#       A_reg[i, :] = ridge_reg.coef_\n",
        "\n",
        "#   Delta_ReLU = -(A_reg*(B**-1))\n",
        "#   # Delta_ReLU = (np.matmul(A_reg,(B**-1)))\n",
        "\n",
        "#   return Delta_L, Delta_ReLU"
      ],
      "metadata": {
        "id": "_hAIUwUw9fXn"
      },
      "execution_count": null,
      "outputs": []
    },
    {
      "cell_type": "code",
      "source": [],
      "metadata": {
        "id": "5UBmjEH-9fba"
      },
      "execution_count": null,
      "outputs": []
    }
  ]
}