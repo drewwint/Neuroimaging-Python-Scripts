{
  "nbformat": 4,
  "nbformat_minor": 0,
  "metadata": {
    "colab": {
      "provenance": [],
      "authorship_tag": "ABX9TyP6E0x/27/3TYvwwTJmsQwR",
      "include_colab_link": true
    },
    "kernelspec": {
      "name": "python3",
      "display_name": "Python 3"
    },
    "language_info": {
      "name": "python"
    }
  },
  "cells": [
    {
      "cell_type": "markdown",
      "metadata": {
        "id": "view-in-github",
        "colab_type": "text"
      },
      "source": [
        "<a href=\"https://colab.research.google.com/github/drewwint/Neuroimaging-Python-Scripts/blob/main/DDC_simulation_verify_FINAL.ipynb\" target=\"_parent\"><img src=\"https://colab.research.google.com/assets/colab-badge.svg\" alt=\"Open In Colab\"/></a>"
      ]
    },
    {
      "cell_type": "markdown",
      "source": [
        "# Dynamic Differnetial Covariance for Python\n",
        "## Code to calcualte DDC - both linear and non-linear as well as their regularized forms in Python\n",
        "## Demonstration below validates this code with a similation for timeseries signal recovery\n",
        "#### Written by: Drew E. Winters, PhD."
      ],
      "metadata": {
        "id": "68V2QL-CCdHh"
      }
    },
    {
      "cell_type": "markdown",
      "source": [
        "## packages"
      ],
      "metadata": {
        "id": "ka2H8E3liplV"
      }
    },
    {
      "cell_type": "code",
      "source": [
        "import pandas as pd\n",
        "import numpy as np\n",
        "from scipy import stats\n",
        "import os, glob, pathlib\n",
        "import re # to manupulate varaibles\n",
        "from sklearn.linear_model import Ridge\n",
        "from numpy.linalg import inv, matrix_rank\n",
        "from scipy.stats import zscore\n",
        "import seaborn as sns\n",
        "import matplotlib.pyplot as plt\n",
        "import matplotlib.patches as mpatches\n",
        "from sklearn.metrics.pairwise import cosine_similarity\n",
        "from sklearn.metrics import pairwise_distances\n"
      ],
      "metadata": {
        "id": "fqEmUZCp7pky"
      },
      "execution_count": 13,
      "outputs": []
    },
    {
      "cell_type": "code",
      "source": [
        "seed = 5489 # set seed for reproducibility\n",
        "  ## according to <https://walkingrandomly.com/?p=5480> this is the same as matlab default twister 0 \"rng(0)\"\"\n",
        "np.random.seed(seed)"
      ],
      "metadata": {
        "id": "oEIRyPOgDBJ8"
      },
      "execution_count": 14,
      "outputs": []
    },
    {
      "cell_type": "markdown",
      "source": [
        "# Functions"
      ],
      "metadata": {
        "id": "VTUu0nkuiu5S"
      }
    },
    {
      "cell_type": "markdown",
      "source": [
        "## Non-linear timeseries simulation function"
      ],
      "metadata": {
        "id": "Xg0m8jNciNxC"
      }
    },
    {
      "cell_type": "code",
      "source": [
        "import numpy as np\n",
        "import pandas as pd\n",
        "\n",
        "def nonlinear_simulation(G, deltaT, RandInput, options):\n",
        "    \"\"\"\n",
        "    Simulate the dynamics of a nonlinear system.\n",
        "\n",
        "    Parameters:\n",
        "    - G (numpy.ndarray): Connectivity matrix.\n",
        "    - deltaT (float): Integration step.\n",
        "    - RandInput (float): Magnitude of noisy input.\n",
        "    - options (dict): Dictionary with keys 'nonlinearity', 'parameter', and 'Ttotal'.\n",
        "\n",
        "    Returns:\n",
        "    - V_pre (numpy.ndarray): Time points x variables.\n",
        "    \"\"\"\n",
        "\n",
        "    def relu(x, param):\n",
        "        \"\"\"ReLU activation function with a given parameter.\"\"\"\n",
        "        Fx = x - param\n",
        "        Fx[Fx < 0] = 0\n",
        "        return Fx\n",
        "\n",
        "    def sigmoid(x, param):\n",
        "        \"\"\"Sigmoid activation function with a given parameter.\"\"\"\n",
        "        return 1 / (1 + np.exp(-param * x))\n",
        "\n",
        "    def sigmoid_sym(x, param):\n",
        "        \"\"\"Symmetric sigmoid activation function with a given parameter.\"\"\"\n",
        "        return 1 / (1 + np.exp(-param * x)) - 0.5\n",
        "\n",
        "    # Select the nonlinearity function based on options\n",
        "    if options['nonlinearity'] == 'relu':\n",
        "        print('ReLU nonlinearity')\n",
        "        F = lambda x: relu(x, options['parameter'])\n",
        "    elif options['nonlinearity'] == 'sigmoid':\n",
        "        print('Sigmoid nonlinearity')\n",
        "        F = lambda x: sigmoid(x, options['parameter'])\n",
        "    elif options['nonlinearity'] == 'sigmoid_sym':\n",
        "        print('Sigmoid symmetric nonlinearity')\n",
        "        F = lambda x: sigmoid_sym(x, options['parameter'])\n",
        "    else:\n",
        "        raise ValueError(\"Unsupported nonlinearity function\")\n",
        "\n",
        "    N = G.shape[0]\n",
        "    T = int(options['Ttotal'] / deltaT)  # Number of time steps\n",
        "    V_pre = np.zeros((T, N))\n",
        "    I = np.zeros((T, N))\n",
        "\n",
        "    for t in range(1, T):\n",
        "        u = np.random.randn(N) * RandInput\n",
        "        I[t, :] = (G @ F(V_pre[t-1, :]))  # Matrix-vector multiplication\n",
        "        V_pre[t, :] = V_pre[t-1, :] + (I[t, :] + u) * deltaT\n",
        "\n",
        "        if np.any(V_pre[t, :] > 10000):\n",
        "            print('Simulation exploded')\n",
        "            break\n",
        "\n",
        "        if t % (T // 10) == 0:\n",
        "            print(f'Simulation iteration: {t / T:.2f}')\n",
        "\n",
        "    return V_pre\n",
        "\n",
        "# Example usage\n",
        "    # G = np.array([[1, 0.5, 0.5],\n",
        "    #               [0.5, 1, 0.5],\n",
        "    #               [0.5, 0.5, 1]])\n",
        "G = np.array([[0, -0.5, -0.5],\n",
        "              [-0.5, 0, 0.5],\n",
        "              [-0.5, 0.5, 0]])\n",
        "deltaT = 0.1 #03 #*#\n",
        "RandInput = 0.04\n",
        "options = {\n",
        "    'nonlinearity': 'relu',  # 'sigmoid' or 'sigmoid_sym'\n",
        "    'parameter': 1,\n",
        "    'Ttotal': 1000\n",
        "}\n",
        "\n",
        "V_pre = nonlinear_simulation(G, deltaT, RandInput, options)\n",
        "\n",
        "# Plotting the results\n",
        "import matplotlib.pyplot as plt\n",
        "\n",
        "plt.plot(V_pre)\n",
        "plt.show()\n"
      ],
      "metadata": {
        "colab": {
          "base_uri": "https://localhost:8080/",
          "height": 604
        },
        "id": "3-s_VDbH4tFs",
        "outputId": "022812b3-35d2-47ab-c4be-94fa68ae7dae"
      },
      "execution_count": 15,
      "outputs": [
        {
          "output_type": "stream",
          "name": "stdout",
          "text": [
            "ReLU nonlinearity\n",
            "Simulation iteration: 0.10\n",
            "Simulation iteration: 0.20\n",
            "Simulation iteration: 0.30\n",
            "Simulation iteration: 0.40\n",
            "Simulation iteration: 0.50\n",
            "Simulation iteration: 0.60\n",
            "Simulation iteration: 0.70\n",
            "Simulation iteration: 0.80\n",
            "Simulation iteration: 0.90\n"
          ]
        },
        {
          "output_type": "display_data",
          "data": {
            "text/plain": [
              "<Figure size 640x480 with 1 Axes>"
            ],
            "image/png": "[encoded data removed]"
          },
          "metadata": {}
        }
      ]
    },
    {
      "cell_type": "code",
      "source": [
        "pd.DataFrame(V_pre).shape"
      ],
      "metadata": {
        "id": "qLkgysIw_Ysu",
        "colab": {
          "base_uri": "https://localhost:8080/"
        },
        "outputId": "77aaa028-de7a-49ed-ee2f-2833437dc772"
      },
      "execution_count": 104,
      "outputs": [
        {
          "output_type": "execute_result",
          "data": {
            "text/plain": [
              "(10000, 3)"
            ]
          },
          "metadata": {},
          "execution_count": 104
        }
      ]
    },
    {
      "cell_type": "markdown",
      "source": [
        "## Code for the relu estimation\n",
        "\n",
        "### Translated from matlab code: https://github.com/yschen13/DDC/tree/main\n",
        "#### Improved over prior translation: https://github.com/margotwagner/DDC/blob/main/src/py_DDC/Compute_DDC.py"
      ],
      "metadata": {
        "id": "Y2E-TqzJgG9Z"
      }
    },
    {
      "cell_type": "code",
      "source": [
        "\n",
        "\n",
        "def derivative_123(f, dm, dt):\n",
        "    \"\"\"\n",
        "    Compute the first, second, and third derivatives of a function.\n",
        "    Parameters:\n",
        "    - f (numpy.ndarray): Array of function values.\n",
        "    - dm (int): Parameter for the derivative calculation.\n",
        "    - dt (float): Time step size.\n",
        "    Returns:\n",
        "    - D1 (numpy.ndarray): First derivative.\n",
        "    - D2 (numpy.ndarray): Second derivative.\n",
        "    - D3 (numpy.ndarray): Third derivative.\n",
        "    \"\"\"\n",
        "    t = np.arange(1 + dm, len(f) - dm)\n",
        "    # for this function to work f has to be a numpy array\n",
        "    f = np.array(f)\n",
        "    # D1 (First Derivative)\n",
        "    D1 = 0\n",
        "    d = 0\n",
        "    for n1 in range(1, dm + 1):\n",
        "        for n2 in range(n1 + 1, dm + 1):\n",
        "            d += 1\n",
        "            numerator = -((f[t - n2] * n1**3 - f[t + n2] * n1**3 -\n",
        "                f[t - n1] * n2**3 + f[t + n1] * n2**3))\n",
        "            denominator = (2 * dt * n1**3 * n2 - 2 * dt * n1 * n2**3)\n",
        "            D1 += numerator / denominator\n",
        "    D1 /= d\n",
        "\n",
        "    # D2 (Second Derivative)\n",
        "    D2 = 0\n",
        "    d = 0\n",
        "    for n1 in range(1, dm + 1):\n",
        "        for n2 in range(n1 + 1, dm + 1):\n",
        "            d += 1\n",
        "            numerator = (f[t - n2] * n1**4 + f[t + n2] * n1**4 -\n",
        "                         f[t - n1] * n2**4 - f[t + n1] * n2**4 -\n",
        "                         2 * f[t] * (n1**4 - n2**4))\n",
        "            denominator = (dt**2 * n2**2 * (n1**4 - n1**2 * n2**2))\n",
        "            D2 += numerator / denominator\n",
        "    D2 /= d\n",
        "\n",
        "    # D3 (Third Derivative)\n",
        "    D3 = 0\n",
        "    d = 0\n",
        "    for n1 in range(1, dm + 1):\n",
        "        for n2 in range(n1 + 1, dm + 1):\n",
        "            for n3 in range(n2 + 1, dm + 1):\n",
        "                d += 1\n",
        "                numerator = (3 * (f[t - n3] * n1 * n2 * (n1**4 - n2**4) +\n",
        "                                  f[t + n3] * (-n1**5 * n2 + n1 * n2**5) +\n",
        "                                  n3 * ((f[t - n1] - f[t + n1]) * n2 * (n2**4 - n3**4) +\n",
        "                                        f[t + n2] * (n1**5 - n1 * n3**4) +\n",
        "                                        f[t - n2] * (-n1**5 + n1 * n3**4))))\n",
        "                denominator = (dt**3 * n1 * (n1**2 - n2**2) * n3 * (n1**2 - n3**2) * (n2**3 - n2 * n3**2))\n",
        "                D3 += numerator / denominator\n",
        "\n",
        "    D3 /= d\n",
        "    return D1, D2, D3\n",
        "\n",
        "\n",
        "\n",
        "def dCov_numerical(cx, h, dm=4):\n",
        "  \"\"\"\n",
        "  Compute various numerical differential covariance matrices using different finite difference methods (derivative approximations).\n",
        "\n",
        "  Parameters:\n",
        "  - cx (numpy.ndarray): Time series data matrix (T x N).\n",
        "  - h (float): Step size for numerical differentiation.\n",
        "  - dm (int, optional): Maximum window size for custom derivative computation. Default is 4.\n",
        "\n",
        "  Returns:\n",
        "  - dCov1 (numpy.ndarray): Differential covariance using first difference method (N x N) [approximation of first derivatie].\n",
        "  - dCov2 (numpy.ndarray): Differential covariance using central difference method (N x N) [approximation of second derivative].\n",
        "  - dCov5 (numpy.ndarray): Differential covariance using a higher-order difference method (N x N) [approximation of five-point stencil approximation].\n",
        "  - dCov_center (numpy.ndarray): Differential covariance using a custom centered method (N x N) [the centered derivative from Taylor expansion].\n",
        "\n",
        "  NOTE:\n",
        "  \tdCov = <dv/dt,v>\n",
        "  \tcovariance is computed through np.cov()\n",
        "  \"\"\"\n",
        "  T, N = cx.shape\n",
        "  # Compute first-order derivative\n",
        "  cx = np.array(cx)\n",
        "  diff_cx = np.vstack(((cx[1:, :] - cx[:-1, :]) / h,\n",
        "                       np.mean(cx[1:, :] - cx[:-1, :], axis=0)))\n",
        "  Csample = np.cov(np.hstack((diff_cx, cx)).T, rowvar=False)\n",
        "  dCov1 = zscore(Csample[:N, N:N + N])\n",
        "\n",
        "  # Compute second-order derivative\n",
        "  diff_cx = np.vstack(((1/2 * cx[2:, :] - 1/2 * cx[:-2, :]) / h,\n",
        "                       np.mean(1/2 * cx[2:, :] - 1/2 * cx[:-2, :], axis=0),\n",
        "                       diff_cx[-1, :]))\n",
        "  Csample = np.cov(np.hstack((diff_cx, cx)), rowvar=False)\n",
        "  dCov2 = zscore(Csample[:N, N:N + N])\n",
        "\n",
        "  # Compute five-point stencil derivative\n",
        "  diff_cx = np.zeros((T, N))\n",
        "  for i in range(2, T - 2):\n",
        "      for j in range(2, N - 2):\n",
        "        diff_cx[i, j] = (\n",
        "            -cx[i + 2, j] + 8 * cx[i + 1, j]\n",
        "            - 8 * cx[i - 1, j] + cx[i - 2, j]\n",
        "        ) / 12.0\n",
        "  Csample = np.cov(np.hstack((diff_cx, cx)), rowvar=False)\n",
        "  dCov5 = Csample[:N, N:N + N]\n",
        "\n",
        "  # Compute centered derivative using derivative_123\n",
        "  diff_cx = np.zeros(((T - 2 * dm)-1, N))\n",
        "  for i in range(N):\n",
        "      dx, _, _ = derivative_123(cx[:, i], dm, h)\n",
        "      diff_cx[:, i] = dx\n",
        "  cx_trunc = cx[1+dm:T - dm, :]\n",
        "  Csample = np.cov(np.hstack((diff_cx, cx_trunc)), rowvar=False)\n",
        "  dCov_center = Csample[:N, N:N + N]\n",
        "\n",
        "  return dCov1, dCov2, dCov5, dCov_center\n",
        "\n",
        "\n",
        "def estimators(V, thres, TR):\n",
        "  \"\"\"\n",
        "\tINPUT:\n",
        "  \t\tV_obs: time points x variables\n",
        "  \t\tthres: Relu offset\n",
        "  \t\tTR: sampling interval (seconds)\n",
        "  OUTPUT:\n",
        "  \t\tB: ReLu(x),x\n",
        "  \t\tdCov: dx/dt,x\n",
        "  \"\"\"\n",
        "  T, N = V.shape\n",
        "  V_obs = zscore(V, axis=0)\n",
        "  Cov = np.cov(V_obs, rowvar=False)\n",
        "  precision = np.linalg.inv(Cov)\n",
        "  # ReLU transformation\n",
        "  Fx = np.maximum(V_obs - thres, 0)\n",
        "  B = np.cov(Fx,rowvar=False)\n",
        "  dV = np.diff(V_obs) / TR\n",
        "  dV = np.vstack([np.mean(dV, axis=0), dV[1:-1], np.mean(dV, axis=0)])\n",
        "  dCov = np.cov(np.hstack([dV, V_obs]), rowvar=False)\n",
        "\n",
        "  return Cov, precision, B, dCov\n",
        "\n",
        "\n",
        "import numpy as np\n",
        "from sklearn.linear_model import Ridge\n",
        "from scipy.stats import zscore\n",
        "\n",
        "def dCov_linear_Reg(V, TR, lambda_=0.01):\n",
        "    \"\"\"\n",
        "    L2 Regularized version of deltaL.\n",
        "\n",
        "    Parameters:\n",
        "    - V (numpy.ndarray): Time series data (T x N).\n",
        "    - TR (float): Sampling interval.\n",
        "    - lambda_ (float): Regularization strength.\n",
        "\n",
        "    Returns:\n",
        "    - Delta_L (numpy.ndarray): Linear DDC with ridge regularization.\n",
        "    \"\"\"\n",
        "    T, N = V.shape\n",
        "\n",
        "    # Standardize V\n",
        "    V_obs = zscore(V, axis=0)\n",
        "\n",
        "    # Calculate numerical derivatives and estimators\n",
        "    _, dCov2, _, _ = dCov_numerical(V_obs, TR)\n",
        "    Cov, _, _, _ = estimators(V_obs, 0, TR)\n",
        "\n",
        "    # Use Cov for B as per the MATLAB code\n",
        "    B = Cov\n",
        "    C = dCov2\n",
        "\n",
        "    # Initialize the output matrix\n",
        "    Delta_L = np.zeros_like(C)\n",
        "\n",
        "    # Perform ridge regression for each row of C\n",
        "    BtB = B.T @ B\n",
        "    identity = np.eye(B.shape[1])\n",
        "    BtB_reg = BtB + lambda_ * identity\n",
        "    BtB_reg_inv = np.linalg.inv(BtB_reg)\n",
        "    Delta_L = zscore(np.flipud((BtB_reg_inv @ B.T @ C.T).T))/2\n",
        "\n",
        "    return Delta_L\n",
        "\n",
        "\n",
        "def dcov_relu(V, TR, lambda_=0.01):\n",
        "    \"\"\"\n",
        "    Regularized version of Delta_ReLU\n",
        "    INPUT:\n",
        "        V: time series\n",
        "        TR: sampling interval\n",
        "        lambda_: regularization strength\n",
        "    OUTPUT:\n",
        "        Delta_ReLU: nonlinear DDC with ReLU nonlinearity\n",
        "    \"\"\"\n",
        "    T, N = V.shape\n",
        "\n",
        "    # Standardize V\n",
        "    V_obs = zscore(V, axis=0)\n",
        "    # V_obs = V\n",
        "\n",
        "    # Calculate numerical derivatives and estimators\n",
        "    _, dCov2, _, _ = dCov_numerical(V_obs, TR)\n",
        "\n",
        "    # Apply ReLU non-linearity to the standardized observations\n",
        "    V_relu = np.maximum(V_obs, 0)  # Applying ReLU\n",
        "\n",
        "    # Re-compute the estimators using ReLU-transformed data\n",
        "    Cov, _, B, _ = estimators(V_relu, 1, TR)\n",
        "\n",
        "    # Ridge regression using the ReLU-transformed covariance matrix\n",
        "    BtB = B.T @ B\n",
        "    identity = np.eye(B.shape[1])\n",
        "    BtB_reg = BtB + lambda_ * identity\n",
        "    BtB_reg_inv = np.linalg.inv(BtB_reg)\n",
        "    Delta_ReLU = zscore(np.flipud((BtB_reg_inv @ B.T @ dCov2.T).T))/2\n",
        "\n",
        "    return Delta_ReLU\n",
        "\n"
      ],
      "metadata": {
        "id": "LG5_wJPA_Up2"
      },
      "execution_count": 17,
      "outputs": []
    },
    {
      "cell_type": "markdown",
      "source": [
        "# Testing the estimation by trying to recover ground truth"
      ],
      "metadata": {
        "id": "lo92lRtii58x"
      }
    },
    {
      "cell_type": "markdown",
      "source": [
        "## Ground truth figure we are trying to recover\n"
      ],
      "metadata": {
        "id": "ebwpEy90fxOz"
      }
    },
    {
      "cell_type": "code",
      "source": [
        "import seaborn as sns\n",
        "import matplotlib.pyplot as plt\n",
        "np.fill_diagonal(G,0)\n",
        "sns.heatmap(G, annot=True, cmap = 'viridis', vmin=-0.5, vmax=0.5)"
      ],
      "metadata": {
        "id": "gorwRjGf4but",
        "colab": {
          "base_uri": "https://localhost:8080/",
          "height": 447
        },
        "outputId": "da118f8e-57c8-4a7d-f6d8-7143ab9d2960"
      },
      "execution_count": 18,
      "outputs": [
        {
          "output_type": "execute_result",
          "data": {
            "text/plain": [
              "<Axes: >"
            ]
          },
          "metadata": {},
          "execution_count": 18
        },
        {
          "output_type": "display_data",
          "data": {
            "text/plain": [
              "<Figure size 640x480 with 2 Axes>"
            ],
            "image/png": "[encoded data removed]"
          },
          "metadata": {}
        }
      ]
    },
    {
      "cell_type": "markdown",
      "source": [
        "## Correlation Recovery"
      ],
      "metadata": {
        "id": "9wuJKwV8hDp6"
      }
    },
    {
      "cell_type": "code",
      "source": [
        "cor = pd.DataFrame(V_pre).corr()\n",
        "np.fill_diagonal(cor.values,0)\n",
        "sns.heatmap(cor, annot=True, cmap = 'viridis', vmin=-0.05, vmax=0.05)"
      ],
      "metadata": {
        "id": "LP73uStIkvNA",
        "colab": {
          "base_uri": "https://localhost:8080/",
          "height": 447
        },
        "outputId": "500f6a96-b3af-47ea-dd30-1065c9c155ea"
      },
      "execution_count": 22,
      "outputs": [
        {
          "output_type": "execute_result",
          "data": {
            "text/plain": [
              "<Axes: >"
            ]
          },
          "metadata": {},
          "execution_count": 22
        },
        {
          "output_type": "display_data",
          "data": {
            "text/plain": [
              "<Figure size 640x480 with 2 Axes>"
            ],
            "image/png": "[encoded data removed]"
          },
          "metadata": {}
        }
      ]
    },
    {
      "cell_type": "markdown",
      "source": [
        "### Delta L Recovery"
      ],
      "metadata": {
        "id": "vOiei_nT8EWe"
      }
    },
    {
      "cell_type": "code",
      "source": [
        "dCov1, dCov2,_,dCovC = dCov_numerical(V_pre, deltaT)\n",
        "Cov,Precision,B,_ = estimators(V_pre, np.percentile(V_pre,50), deltaT)"
      ],
      "metadata": {
        "id": "YvMPzIDWPRiU"
      },
      "execution_count": 87,
      "outputs": []
    },
    {
      "cell_type": "code",
      "source": [
        "delta_l = np.matmul(dCov2,Precision)\n",
        "delta_l_p = delta_l.copy()\n",
        "np.fill_diagonal(delta_l_p,0)\n",
        "sns.heatmap(delta_l_p, annot=True, cmap = 'viridis', vmin=-0.05, vmax=0.05)\n"
      ],
      "metadata": {
        "colab": {
          "base_uri": "https://localhost:8080/",
          "height": 447
        },
        "id": "PSzBPBpCQD1L",
        "outputId": "a3d3e94f-b7b4-4fdf-a1ef-696d9da1d56f"
      },
      "execution_count": 91,
      "outputs": [
        {
          "output_type": "execute_result",
          "data": {
            "text/plain": [
              "<Axes: >"
            ]
          },
          "metadata": {},
          "execution_count": 91
        },
        {
          "output_type": "display_data",
          "data": {
            "text/plain": [
              "<Figure size 640x480 with 2 Axes>"
            ],
            "image/png": "[encoded data removed]"
          },
          "metadata": {}
        }
      ]
    },
    {
      "cell_type": "markdown",
      "source": [
        "### Delta Relu Recovery"
      ],
      "metadata": {
        "id": "tpDU1tUI8HRw"
      }
    },
    {
      "cell_type": "code",
      "source": [
        "# delta_relu = np.matmul(dCovC,B)\n",
        "# delta_relu_p = zscore(delta_relu.copy())\n",
        "delta_relu = np.matmul(dCov2,B)\n",
        "delta_relu_p = delta_relu.copy()\n",
        "np.fill_diagonal(delta_relu_p,0)\n",
        "sns.heatmap(delta_relu_p, annot=True, cmap = 'viridis', vmin=-0.05, vmax=0.05)"
      ],
      "metadata": {
        "colab": {
          "base_uri": "https://localhost:8080/",
          "height": 447
        },
        "id": "SvVOBpsLtA6w",
        "outputId": "82590605-c9b2-46ba-dc0c-44a12dbfb39d"
      },
      "execution_count": 90,
      "outputs": [
        {
          "output_type": "execute_result",
          "data": {
            "text/plain": [
              "<Axes: >"
            ]
          },
          "metadata": {},
          "execution_count": 90
        },
        {
          "output_type": "display_data",
          "data": {
            "text/plain": [
              "<Figure size 640x480 with 2 Axes>"
            ],
            "image/png": "[encoded data removed]"
          },
          "metadata": {}
        }
      ]
    },
    {
      "cell_type": "markdown",
      "source": [
        "## non-linearn ddc estimation\n",
        "* ddc_relu = regularized non-linear"
      ],
      "metadata": {
        "id": "7aCUBY5VgeBU"
      }
    },
    {
      "cell_type": "code",
      "source": [
        "ddc_relu = dcov_relu(V=V_pre, TR=deltaT)"
      ],
      "metadata": {
        "id": "XamoSmpYRDV_"
      },
      "execution_count": 19,
      "outputs": []
    },
    {
      "cell_type": "code",
      "source": [
        "ddc_relu"
      ],
      "metadata": {
        "colab": {
          "base_uri": "https://localhost:8080/"
        },
        "id": "W7IdcqDy-7Qn",
        "outputId": "e03e28c5-c64b-4cff-9fa5-4ada6c3e6713"
      },
      "execution_count": null,
      "outputs": [
        {
          "output_type": "execute_result",
          "data": {
            "text/plain": [
              "array([[ 0.69068468, -0.34784253, -0.68810007],\n",
              "       [-0.21413259, -0.35923367,  0.48507739],\n",
              "       [-0.4765521 ,  0.7070762 ,  0.20302268]])"
            ]
          },
          "metadata": {},
          "execution_count": 164
        }
      ]
    },
    {
      "cell_type": "code",
      "source": [
        "ddc_relu = dcov_relu(V=V_pre, TR=deltaT)\n",
        "ddc_relu"
      ],
      "metadata": {
        "colab": {
          "base_uri": "https://localhost:8080/"
        },
        "id": "vYxV85ATsmbP",
        "outputId": "af51831c-e157-4c0c-8032-6dc7be03904f"
      },
      "execution_count": 20,
      "outputs": [
        {
          "output_type": "execute_result",
          "data": {
            "text/plain": [
              "array([[ 0.69068468, -0.34784253, -0.68810007],\n",
              "       [-0.21413259, -0.35923367,  0.48507739],\n",
              "       [-0.4765521 ,  0.7070762 ,  0.20302268]])"
            ]
          },
          "metadata": {},
          "execution_count": 20
        }
      ]
    },
    {
      "cell_type": "markdown",
      "source": [
        "### what we recovered - regularized non-linear (relu)"
      ],
      "metadata": {
        "id": "fnY4fO5Ig1z3"
      }
    },
    {
      "cell_type": "code",
      "source": [
        "ddc_relu_p = ddc_relu.copy()\n",
        "np.fill_diagonal(ddc_relu_p,0)\n",
        "sns.heatmap(np.round(ddc_relu_p,3), annot=True, cmap = 'viridis', vmin=-0.05, vmax=0.05)"
      ],
      "metadata": {
        "id": "Ijyp8YYG1fu1",
        "colab": {
          "base_uri": "https://localhost:8080/",
          "height": 447
        },
        "outputId": "ad357996-3704-4602-ccd8-fc68b1604bd2"
      },
      "execution_count": 21,
      "outputs": [
        {
          "output_type": "execute_result",
          "data": {
            "text/plain": [
              "<Axes: >"
            ]
          },
          "metadata": {},
          "execution_count": 21
        },
        {
          "output_type": "display_data",
          "data": {
            "text/plain": [
              "<Figure size 640x480 with 2 Axes>"
            ],
            "image/png": "[encoded data removed]"
          },
          "metadata": {}
        }
      ]
    },
    {
      "cell_type": "markdown",
      "source": [
        "## Linear DDC Estimation\n",
        "ddc_l = linear regularized ddc\n"
      ],
      "metadata": {
        "id": "QhSGG69-gvPT"
      }
    },
    {
      "cell_type": "code",
      "source": [
        "ddc_l = dCov_linear_Reg(V_pre, TR=0.1)"
      ],
      "metadata": {
        "id": "xdqLU3gyPjq1"
      },
      "execution_count": 23,
      "outputs": []
    },
    {
      "cell_type": "code",
      "source": [
        "ddc_l_p = ddc_l.copy()\n",
        "np.fill_diagonal(ddc_l_p,0)\n",
        "sns.heatmap(ddc_l_p, annot=True, cmap = 'viridis', vmin=-0.05, vmax=0.05)"
      ],
      "metadata": {
        "id": "YyZrLC-usBVS",
        "colab": {
          "base_uri": "https://localhost:8080/",
          "height": 447
        },
        "outputId": "ece8f6db-3bf4-4f04-e05e-bab22cf8404e"
      },
      "execution_count": 24,
      "outputs": [
        {
          "output_type": "execute_result",
          "data": {
            "text/plain": [
              "<Axes: >"
            ]
          },
          "metadata": {},
          "execution_count": 24
        },
        {
          "output_type": "display_data",
          "data": {
            "text/plain": [
              "<Figure size 640x480 with 2 Axes>"
            ],
            "image/png": "[encoded data removed]"
          },
          "metadata": {}
        }
      ]
    },
    {
      "cell_type": "markdown",
      "source": [
        "# Evaluating recovery"
      ],
      "metadata": {
        "id": "vUhSAnHmbgWG"
      }
    },
    {
      "cell_type": "markdown",
      "source": [
        "## Representational similarity function to evaluate recovery"
      ],
      "metadata": {
        "id": "q-TTrQIfbmhk"
      }
    },
    {
      "cell_type": "code",
      "source": [
        "from joblib import parallel_backend\n",
        "\n",
        "def distance(m1,m2):\n",
        "  distance = []\n",
        "  d_norm = []\n",
        "  import numpy as np\n",
        "  if len(m1) == len(m2) and m1[0].shape == m2[0].shape:\n",
        "    for m in range(len(m1)):\n",
        "      print(\"Calculating distance for pair\", 1+m, \"/\", len(m1))\n",
        "      mm = np.zeros([m1[m].shape[0],m1[m].shape[1]])\n",
        "      for i in range(len(m1[m])):\n",
        "        for j in range(len(m1[m][i])):\n",
        "          mm[i][j] = (np.linalg.norm(m2[m][i][j] - m1[m][i][j]))\n",
        "      distance.append(mm)\n",
        "    for m in distance:\n",
        "      mm2 = np.zeros([m.shape[1],m.shape[1]])\n",
        "      for i in range(len(m)):\n",
        "        for j in range(len(m[i])):\n",
        "          mm2[i][j] = ((m[i][j]-np.min(m))/(np.max(m) - np.min(m)))\n",
        "      d_norm.append(mm2)\n",
        "    return(d_norm)\n",
        "  else:\n",
        "    raise Warning(\"list are different lengths or matricies are different sizes - please fix\")\n",
        "\n",
        "\n",
        "\n",
        "# function for converting distance to similarity matricies\n",
        "def dist_to_sim(d_norm):\n",
        "  sim = []\n",
        "  for m in d_norm:\n",
        "    print(\"Calculating similarity for\", 1+len(sim), \"/\", len(d_norm))\n",
        "    mm = np.zeros([m.shape[0],m.shape[1]])\n",
        "    for i in range(len(m)):\n",
        "      for j in range(len(m[i])):\n",
        "        mm[i][j] = (((np.max(np.array(m))-np.min(np.array(m)))/2) - m[i][j])\n",
        "    sim.append(mm)\n",
        "  return(sim)\n",
        "\n"
      ],
      "metadata": {
        "id": "tn6FPXlGI4Kv"
      },
      "execution_count": 36,
      "outputs": []
    },
    {
      "cell_type": "markdown",
      "source": [
        "### Demonstrating representational similarity output\n"
      ],
      "metadata": {
        "id": "HGcZClb65_cy"
      }
    },
    {
      "cell_type": "markdown",
      "source": [
        "#### Very similar matrix"
      ],
      "metadata": {
        "id": "o2jYv0Hw6JDn"
      }
    },
    {
      "cell_type": "code",
      "source": [
        "GG = np.array([[0, 0.5, 0.5],\n",
        "              [0.5, 0, 0.5],\n",
        "              [0.5, 0.5, 0]])\n",
        "GG2 = np.array([[0, 0.5, 0.35],\n",
        "              [0.45, 0, 0.5],\n",
        "              [0.5, 0.5, 0]])\n",
        "dist_G = distance([GG],[GG2])\n",
        "sim_G = dist_to_sim(dist_G)\n",
        "print(\"\\n Similarity Matrix \\n\", pd.DataFrame(sim_G[0]))\n",
        "print(\"\\n Average Similarity = \", round(np.average(sim_G[0]),3))\n",
        "print(\"\\n Interpretation: \\n Difference max = -0.5 \\n Similarity max =  0.5 \\n Unrelated  max =  0 \")"
      ],
      "metadata": {
        "colab": {
          "base_uri": "https://localhost:8080/"
        },
        "id": "1u92-bUG4oLW",
        "outputId": "40a90ab1-1f7e-4b1e-a7ad-3335e3e3d37e"
      },
      "execution_count": 62,
      "outputs": [
        {
          "output_type": "stream",
          "name": "stdout",
          "text": [
            "Calculating distance for pair 1 / 1\n",
            "Calculating similarity for 1 / 1\n",
            "\n",
            " Similarity Matrix \n",
            "           0    1    2\n",
            "0  0.500000  0.5 -0.5\n",
            "1  0.166667  0.5  0.5\n",
            "2  0.500000  0.5  0.5\n",
            "\n",
            " Average Similarity =  0.352\n",
            "\n",
            " Interpretation: \n",
            " Difference max = -0.5 \n",
            " Similarity max =  0.5 \n",
            " Unrelated  max =  0 \n"
          ]
        }
      ]
    },
    {
      "cell_type": "markdown",
      "source": [
        "#### Very different matrix"
      ],
      "metadata": {
        "id": "M1VNgZOe6Khh"
      }
    },
    {
      "cell_type": "code",
      "source": [
        "GG = np.array([[0, 0.5, 0.5],\n",
        "              [0.5, 0, 0.5],\n",
        "              [0.5, 0.5, 0]])\n",
        "GG2 = np.array([[0.2, -0.5, -0.35],\n",
        "              [-0.45, 0.1, -0.5],\n",
        "              [-0.5, -0.5, 0.7]])\n",
        "dist_G = distance([GG],[GG2])\n",
        "sim_G = dist_to_sim(dist_G)\n",
        "print(\"\\n Similarity Matrix \\n\", pd.DataFrame(sim_G[0]))\n",
        "print(\"\\n Average Similarity = \", round(np.average(sim_G[0]),3))\n",
        "print(\"\\n Interpretation: \\n Difference max = -0.5 \\n Similarity max =  0.5 \\n Unrelated  max =  0 \")"
      ],
      "metadata": {
        "colab": {
          "base_uri": "https://localhost:8080/"
        },
        "id": "JCFFIwHZ6OMv",
        "outputId": "4180bae7-24d6-40c1-84fd-f93b06863462"
      },
      "execution_count": 74,
      "outputs": [
        {
          "output_type": "stream",
          "name": "stdout",
          "text": [
            "Calculating distance for pair 1 / 1\n",
            "Calculating similarity for 1 / 1\n",
            "\n",
            " Similarity Matrix \n",
            "           0    1         2\n",
            "0  0.388889 -0.5 -0.333333\n",
            "1 -0.444444  0.5 -0.500000\n",
            "2 -0.500000 -0.5 -0.166667\n",
            "\n",
            " Average Similarity =  -0.228\n",
            "\n",
            " Interpretation: \n",
            " Difference max = -0.5 \n",
            " Similarity max =  0.5 \n",
            " Unrelated  max =  0 \n"
          ]
        }
      ]
    },
    {
      "cell_type": "markdown",
      "source": [
        "### Calculating Similarity for each matrix"
      ],
      "metadata": {
        "id": "BDNa79nh6tLS"
      }
    },
    {
      "cell_type": "code",
      "source": [
        "G"
      ],
      "metadata": {
        "colab": {
          "base_uri": "https://localhost:8080/"
        },
        "id": "LAjI2ihu_CwT",
        "outputId": "b4ab9190-4ddf-4093-c198-4291cd338633"
      },
      "execution_count": 42,
      "outputs": [
        {
          "output_type": "execute_result",
          "data": {
            "text/plain": [
              "array([[ 0. , -0.5, -0.5],\n",
              "       [-0.5,  0. ,  0.5],\n",
              "       [-0.5,  0.5,  0. ]])"
            ]
          },
          "metadata": {},
          "execution_count": 42
        }
      ]
    },
    {
      "cell_type": "markdown",
      "source": [
        "#### Correlation similarity"
      ],
      "metadata": {
        "id": "MioB6gGO6xkR"
      }
    },
    {
      "cell_type": "code",
      "source": [
        "dist_cor = distance([cor],[G])\n",
        "sim_cor = dist_to_sim(dist_cor)\n",
        "print(\"\\n Similarity Matrix \\n\", pd.DataFrame(sim_cor[0]))\n",
        "print(\"\\n Average Similarity= \", round(np.average(sim_cor[0]),3))\n",
        "print(\"\\n Interpretation: \\n Difference max = -0.5 \\n Similarity max =  0.5 \\n Unrelated  max =  0 \")"
      ],
      "metadata": {
        "colab": {
          "base_uri": "https://localhost:8080/"
        },
        "id": "Nog3Sw2IyIYr",
        "outputId": "a22aa3df-18f0-4fe3-c81d-e6fe733eca07"
      },
      "execution_count": 77,
      "outputs": [
        {
          "output_type": "stream",
          "name": "stdout",
          "text": [
            "Calculating distance for pair 1 / 1\n",
            "Calculating similarity for 1 / 1\n",
            "\n",
            " Similarity Matrix \n",
            "           0         1         2\n",
            "0  0.500000 -0.033771 -0.500000\n",
            "1 -0.033771  0.500000  0.014921\n",
            "2 -0.500000  0.014921  0.500000\n",
            "\n",
            " Average Similarity=  0.051\n",
            "\n",
            " Interpretation: \n",
            " Difference max = -0.5 \n",
            " Similarity max =  0.5 \n",
            " Unrelated  max =  0 \n"
          ]
        }
      ]
    },
    {
      "cell_type": "markdown",
      "source": [
        "### Delta Relu"
      ],
      "metadata": {
        "id": "5M0t_QNW84KN"
      }
    },
    {
      "cell_type": "code",
      "source": [
        "dist_ddr = distance([delta_relu],[G])\n",
        "sim_ddr = dist_to_sim(dist_ddr)\n",
        "print(\"\\n Similarity Matrix \\n\", pd.DataFrame(sim_ddr[0]))\n",
        "print(\"\\n Average Similarity = \", round(np.average(sim_ddr[0]),3))\n",
        "print(\"\\n Interpretation: \\n Difference max = -0.5 \\n Similarity max =  0.5 \\n Unrelated  max =  0 \")"
      ],
      "metadata": {
        "colab": {
          "base_uri": "https://localhost:8080/"
        },
        "id": "jqurkv2a89p-",
        "outputId": "58a548a8-10ec-4139-f12b-d7ca7ef2bf40"
      },
      "execution_count": 93,
      "outputs": [
        {
          "output_type": "stream",
          "name": "stdout",
          "text": [
            "Calculating distance for pair 1 / 1\n",
            "Calculating similarity for 1 / 1\n",
            "\n",
            " Similarity Matrix \n",
            "           0         1         2\n",
            "0  0.135466 -0.500000  0.332406\n",
            "1 -0.243452  0.121710  0.396345\n",
            "2 -0.184025 -0.057771  0.500000\n",
            "\n",
            " Average Similarity =  0.056\n",
            "\n",
            " Interpretation: \n",
            " Difference max = -0.5 \n",
            " Similarity max =  0.5 \n",
            " Unrelated  max =  0 \n"
          ]
        }
      ]
    },
    {
      "cell_type": "markdown",
      "source": [
        "Delta L"
      ],
      "metadata": {
        "id": "KcE-EBPv880d"
      }
    },
    {
      "cell_type": "code",
      "source": [
        "dist_ddl = distance([delta_l],[G])\n",
        "sim_ddl = dist_to_sim(dist_ddl)\n",
        "print(\"\\n Similarity Matrix \\n\", pd.DataFrame(sim_ddl[0]))\n",
        "print(\"\\n Average Similarity = \", round(np.average(sim_ddl[0]),3))\n",
        "print(\"\\n Interpretation: \\n Difference max = -0.5 \\n Similarity max =  0.5 \\n Unrelated  max =  0 \")"
      ],
      "metadata": {
        "colab": {
          "base_uri": "https://localhost:8080/"
        },
        "id": "tAYxh2fY86i2",
        "outputId": "e6ffacfb-136f-44c0-979b-981a3397cf65"
      },
      "execution_count": 94,
      "outputs": [
        {
          "output_type": "stream",
          "name": "stdout",
          "text": [
            "Calculating distance for pair 1 / 1\n",
            "Calculating similarity for 1 / 1\n",
            "\n",
            " Similarity Matrix \n",
            "           0         1         2\n",
            "0  0.165169  0.161990  0.165737\n",
            "1  0.191553  0.500000  0.110922\n",
            "2 -0.500000  0.299648 -0.361000\n",
            "\n",
            " Average Similarity =  0.082\n",
            "\n",
            " Interpretation: \n",
            " Difference max = -0.5 \n",
            " Similarity max =  0.5 \n",
            " Unrelated  max =  0 \n"
          ]
        }
      ]
    },
    {
      "cell_type": "markdown",
      "source": [
        "### Regularized Linear"
      ],
      "metadata": {
        "id": "XIMGRphl65kZ"
      }
    },
    {
      "cell_type": "code",
      "source": [
        "dist_ddcl = distance([ddc_l],[G])\n",
        "sim_ddcl = dist_to_sim(dist_ddcl)\n",
        "print(\"\\n Similarity Matrix \\n\", pd.DataFrame(sim_ddcl[0]))\n",
        "print(\"\\n Average Similarity = \", round(np.average(sim_ddcl[0]),3))\n",
        "print(\"\\n Interpretation: \\n Difference max = -0.5 \\n Similarity max =  0.5 \\n Unrelated  max =  0 \")"
      ],
      "metadata": {
        "colab": {
          "base_uri": "https://localhost:8080/"
        },
        "id": "_C6gTAGf1unJ",
        "outputId": "45e080c3-35d7-450a-bc8c-6c3832752d26"
      },
      "execution_count": 78,
      "outputs": [
        {
          "output_type": "stream",
          "name": "stdout",
          "text": [
            "Calculating distance for pair 1 / 1\n",
            "Calculating similarity for 1 / 1\n",
            "\n",
            " Similarity Matrix \n",
            "           0         1         2\n",
            "0 -0.500000  0.500000  0.238728\n",
            "1  0.215275  0.342765  0.339613\n",
            "2  0.435453  0.294961  0.030537\n",
            "\n",
            " Average Similarity =  0.211\n",
            "\n",
            " Interpretation: \n",
            " Difference max = -0.5 \n",
            " Similarity max =  0.5 \n",
            " Unrelated  max =  0 \n"
          ]
        }
      ]
    },
    {
      "cell_type": "markdown",
      "source": [
        "#### Regularized non-linear"
      ],
      "metadata": {
        "id": "BoEmqBee61HZ"
      }
    },
    {
      "cell_type": "code",
      "source": [
        "dist_ddcr = distance([ddc_relu],[G])\n",
        "sim_ddcr = dist_to_sim(dist_ddcr)\n",
        "print(\"\\n Similarity Matrix \\n\", pd.DataFrame(sim_ddcr[0]))\n",
        "print(\"\\n Average Similarity = \", round(np.average(sim_ddcr[0]),3))\n",
        "print(\"\\n Interpretation: \\n Difference max = -0.5 \\n Similarity max =  0.5 \\n Unrelated  max =  0 \")"
      ],
      "metadata": {
        "colab": {
          "base_uri": "https://localhost:8080/"
        },
        "id": "C4odEkzmzco_",
        "outputId": "d3c0f858-e722-4012-aade-6e1b212a8782"
      },
      "execution_count": 95,
      "outputs": [
        {
          "output_type": "stream",
          "name": "stdout",
          "text": [
            "Calculating distance for pair 1 / 1\n",
            "Calculating similarity for 1 / 1\n",
            "\n",
            " Similarity Matrix \n",
            "           0         1         2\n",
            "0 -0.500000  0.296918  0.243730\n",
            "1  0.099053 -0.009515  0.500000\n",
            "2  0.487384  0.215649  0.221647\n",
            "\n",
            " Average Similarity =  0.173\n",
            "\n",
            " Interpretation: \n",
            " Difference max = -0.5 \n",
            " Similarity max =  0.5 \n",
            " Unrelated  max =  0 \n"
          ]
        }
      ]
    },
    {
      "cell_type": "markdown",
      "source": [
        "## Cosine similarity to evaluate recovery"
      ],
      "metadata": {
        "id": "wBBQBq1i7aRL"
      }
    },
    {
      "cell_type": "markdown",
      "source": [
        "### Correlation\n"
      ],
      "metadata": {
        "id": "kcv6tDBF7gAG"
      }
    },
    {
      "cell_type": "code",
      "source": [
        "print(cosine_similarity(cor, G))\n",
        "np.average(cosine_similarity(cor, G))"
      ],
      "metadata": {
        "colab": {
          "base_uri": "https://localhost:8080/"
        },
        "id": "LfJFJ6fpGsxk",
        "outputId": "8f999dda-863b-4d45-edbf-8054f192e8aa"
      },
      "execution_count": 96,
      "outputs": [
        {
          "output_type": "stream",
          "name": "stdout",
          "text": [
            "[[-0.82967103  0.69396182  0.1357092 ]\n",
            " [ 0.35033964 -0.96455632 -0.61421669]\n",
            " [ 0.07838651 -0.70274857 -0.78113509]]\n"
          ]
        },
        {
          "output_type": "execute_result",
          "data": {
            "text/plain": [
              "-0.2926589462420968"
            ]
          },
          "metadata": {},
          "execution_count": 96
        }
      ]
    },
    {
      "cell_type": "markdown",
      "source": [
        "### Regularized linear DDC"
      ],
      "metadata": {
        "id": "Gck43zq97mWo"
      }
    },
    {
      "cell_type": "code",
      "source": [
        "print(cosine_similarity(ddc_l_p, G))\n",
        "np.average(cosine_similarity(ddc_l_p, G))"
      ],
      "metadata": {
        "colab": {
          "base_uri": "https://localhost:8080/"
        },
        "id": "QjFeJKtnGydz",
        "outputId": "bd318e7c-016f-4354-f95d-5284cbc74f79"
      },
      "execution_count": 106,
      "outputs": [
        {
          "output_type": "stream",
          "name": "stdout",
          "text": [
            "[[ 0.99016947 -0.56502117 -0.4251483 ]\n",
            " [-0.56054481  0.99157789  0.43103308]\n",
            " [-0.59706011  0.37883931  0.97589942]]\n"
          ]
        },
        {
          "output_type": "execute_result",
          "data": {
            "text/plain": [
              "0.17997164286404382"
            ]
          },
          "metadata": {},
          "execution_count": 106
        }
      ]
    },
    {
      "cell_type": "markdown",
      "source": [
        "### Regularized non-linear DDC"
      ],
      "metadata": {
        "id": "0s13QLKp7iZk"
      }
    },
    {
      "cell_type": "code",
      "source": [
        "print(cosine_similarity(ddc_relu_p, G))\n",
        "np.average(cosine_similarity(ddc_relu_p, G))"
      ],
      "metadata": {
        "colab": {
          "base_uri": "https://localhost:8080/"
        },
        "id": "F6ZO78rD29ET",
        "outputId": "d65c9cbc-62f1-4dd7-dc8b-05a734f496fd"
      },
      "execution_count": 105,
      "outputs": [
        {
          "output_type": "stream",
          "name": "stdout",
          "text": [
            "[[ 0.95006536 -0.63105817 -0.31900719]\n",
            " [-0.6468816   0.93244104  0.28555944]\n",
            " [-0.58636292  0.39519429  0.98155721]]\n"
          ]
        },
        {
          "output_type": "execute_result",
          "data": {
            "text/plain": [
              "0.15127860797081005"
            ]
          },
          "metadata": {},
          "execution_count": 105
        }
      ]
    },
    {
      "cell_type": "code",
      "source": [
        "print(cosine_similarity(delta_l, G))\n",
        "np.average(cosine_similarity(delta_l, G))"
      ],
      "metadata": {
        "colab": {
          "base_uri": "https://localhost:8080/"
        },
        "id": "eoEDRhCV9n9U",
        "outputId": "f63a7e4c-3f2d-40bb-ce31-654c733e7a8c"
      },
      "execution_count": 101,
      "outputs": [
        {
          "output_type": "stream",
          "name": "stdout",
          "text": [
            "[[-0.73695465  0.8445379   0.84832833]\n",
            " [-0.41194248  0.98472993  0.34532642]\n",
            " [ 0.59784767 -0.98742747 -0.61220448]]\n"
          ]
        },
        {
          "output_type": "execute_result",
          "data": {
            "text/plain": [
              "0.09691568545208223"
            ]
          },
          "metadata": {},
          "execution_count": 101
        }
      ]
    },
    {
      "cell_type": "code",
      "source": [
        "print(cosine_similarity(delta_relu, G))\n",
        "np.average(cosine_similarity(delta_relu, G))"
      ],
      "metadata": {
        "colab": {
          "base_uri": "https://localhost:8080/"
        },
        "id": "FYksOxrh9oIJ",
        "outputId": "e5a53a34-dc6d-445e-bec5-63608c84d76b"
      },
      "execution_count": 102,
      "outputs": [
        {
          "output_type": "stream",
          "name": "stdout",
          "text": [
            "[[-0.16159145  0.09255642  0.89040563]\n",
            " [ 0.05110982  0.16738093 -0.7561247 ]\n",
            " [ 0.42402683 -0.86209069 -0.84241585]]\n"
          ]
        },
        {
          "output_type": "execute_result",
          "data": {
            "text/plain": [
              "-0.11074923055766828"
            ]
          },
          "metadata": {},
          "execution_count": 102
        }
      ]
    }
  ]
}